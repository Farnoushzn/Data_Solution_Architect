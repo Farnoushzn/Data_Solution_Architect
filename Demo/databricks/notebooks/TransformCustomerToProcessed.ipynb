{
 "cells": [
  {
   "cell_type": "code",
   "execution_count": null,
   "metadata": {
    "application/vnd.databricks.v1+cell": {
     "cellMetadata": {
      "byteLimit": 2048000,
      "rowLimit": 10000
     },
     "inputWidgets": {},
     "nuid": "6b5af10d-ab62-461b-8a8e-7dda80cc6098",
     "showTitle": false,
     "tableResultSettingsMap": {},
     "title": ""
    }
   },
   "outputs": [],
   "source": [
    "# Import necessary libraries\n",
    "from pyspark.sql import SparkSession\n",
    "from pyspark.sql import DataFrame\n",
    "from pyspark.sql.functions import col, when, lit, split, concat, regexp_extract\n",
    "\n"
   ]
  },
  {
   "cell_type": "code",
   "execution_count": null,
   "metadata": {
    "application/vnd.databricks.v1+cell": {
     "cellMetadata": {
      "byteLimit": 2048000,
      "rowLimit": 10000
     },
     "inputWidgets": {},
     "nuid": "35f466f2-a889-4e2d-b08a-c7e8b09af9f2",
     "showTitle": false,
     "tableResultSettingsMap": {},
     "title": ""
    }
   },
   "outputs": [],
   "source": [
    "# Initialize Spark session\n",
    "spark = SparkSession.builder.appName(\"InspectRawData\").getOrCreate()\n"
   ]
  },
  {
   "cell_type": "code",
   "execution_count": null,
   "metadata": {
    "application/vnd.databricks.v1+cell": {
     "cellMetadata": {
      "byteLimit": 2048000,
      "rowLimit": 10000
     },
     "inputWidgets": {},
     "nuid": "7a56e2b7-c7b0-4466-8e39-da5fb98e6b19",
     "showTitle": false,
     "tableResultSettingsMap": {},
     "title": ""
    }
   },
   "outputs": [],
   "source": [
    "# Azure Data Lake paths (replace placeholders with actual values)\n",
    "storage_account_name = \"datalakestoragetask\"  # Replace with your storage account name\n",
    "raw_container = \"raw\"\n",
    "processed_container = \"processed\"\n",
    "storage_key = \"\"  # Replace with your key or credential method\n",
    "\n",
    "# Configure Spark to access Azure Data Lake\n",
    "spark.conf.set(f\"fs.azure.account.key.{storage_account_name}.dfs.core.windows.net\", storage_key)\n",
    "\n",
    "# Define paths for each dataset\n",
    "paths = {\n",
    "    \"customer_raw\": f\"abfss://{raw_container}@{storage_account_name}.dfs.core.windows.net/customer\",\n",
    "    \"customer_processed\": f\"abfss://{processed_container}@{storage_account_name}.dfs.core.windows.net/customer/\",\n",
    "}\n"
   ]
  },
  {
   "cell_type": "code",
   "execution_count": null,
   "metadata": {
    "application/vnd.databricks.v1+cell": {
     "cellMetadata": {
      "byteLimit": 2048000,
      "rowLimit": 10000
     },
     "inputWidgets": {},
     "nuid": "045f316c-8393-4724-b31a-b4ef4dba6435",
     "showTitle": false,
     "tableResultSettingsMap": {},
     "title": ""
    }
   },
   "outputs": [
    {
     "name": "stdout",
     "output_type": "stream",
     "text": [
      "\n",
      "--- Starting Inspection ---\n",
      "\n"
     ]
    }
   ],
   "source": [
    "# Function to inspect a dataset\n",
    "def inspect_dataset(name, path, format_type, options={}):\n",
    "    print(f\"\\n=== Inspecting {name} Dataset ===\")\n",
    "    try:\n",
    "        # Load dataset based on format\n",
    "        df = spark.read.format(format_type).options(**options).load(path)\n",
    "        \n",
    "        # Show schema and a sample of the data\n",
    "        df.printSchema()\n",
    "        df.limit(30).show(truncate=False)\n",
    "        \n",
    "        # Return DataFrame for further analysis if needed\n",
    "        return df\n",
    "    except Exception as e:\n",
    "        print(f\"Error reading {name} data: {e}\")\n",
    "        return None\n",
    "\n",
    "# Inspect datasets one by one\n",
    "print(\"\\n--- Starting Inspection ---\\n\")\n",
    "\n"
   ]
  },
  {
   "cell_type": "code",
   "execution_count": null,
   "metadata": {
    "application/vnd.databricks.v1+cell": {
     "cellMetadata": {
      "byteLimit": 2048000,
      "rowLimit": 10000
     },
     "inputWidgets": {},
     "nuid": "9454d3c6-2274-428f-8a52-4904277fbd17",
     "showTitle": false,
     "tableResultSettingsMap": {},
     "title": ""
    }
   },
   "outputs": [
    {
     "name": "stdout",
     "output_type": "stream",
     "text": [
      "\n",
      "=== Inspecting Customer Dataset ===\n",
      "root\n",
      " |-- customerID: string (nullable = true)\n",
      " |-- User: string (nullable = true)\n",
      " |-- SupplierID: string (nullable = true)\n",
      " |-- Customername1: string (nullable = true)\n",
      " |-- Customername2: string (nullable = true)\n",
      " |-- Street: string (nullable = true)\n",
      " |-- Postcode: string (nullable = true)\n",
      " |-- City: string (nullable = true)\n",
      " |-- Country: string (nullable = true)\n",
      " |-- Email1: string (nullable = true)\n",
      " |-- Email2: string (nullable = true)\n",
      " |-- AdditionalInformation: string (nullable = true)\n",
      "\n",
      "+----------+----+----------+-------------+-------------+------------------+--------+----------+-------+------+------------------------+---------------------+\n",
      "|customerID|User|SupplierID|Customername1|Customername2|Street            |Postcode|City      |Country|Email1|Email2                  |AdditionalInformation|\n",
      "+----------+----+----------+-------------+-------------+------------------+--------+----------+-------+------+------------------------+---------------------+\n",
      "|NULL      |NULL|00001     |Tequip       |NULL         |Gropiusplatz 10   |70563   |Stuttgart |DE     |NULL  |test.user2@nexmart.com  |NULL                 |\n",
      "|NULL      |NULL|00002     |Tequip       |NULL         |Hauptstraße 45    |40210   |Düsseldorf|DE     |NULL  |maria.muster@firma.com  |NULL                 |\n",
      "|NULL      |NULL|00003     |Tequip       |NULL         |Karlstraße 12     |80331   |München   |DE     |NULL  |franz.meier@firma.com   |NULL                 |\n",
      "|NULL      |NULL|00004     |Tequip       |NULL         |Friedrichstraße 22|10969   |Berlin    |DE     |NULL  |lisa.schmidt@firma.com  |NULL                 |\n",
      "|NULL      |NULL|00005     |Tequip       |NULL         |Rathausplatz 3    |10178   |Berlin    |DE     |NULL  |paul.bauer@firma.com    |NULL                 |\n",
      "|NULL      |NULL|00006     |Tequip       |NULL         |Schlossallee 5    |01067   |Dresden   |DE     |NULL  |anna.klein@firma.com    |NULL                 |\n",
      "|NULL      |NULL|00007     |Tequip       |NULL         |Marktplatz 10     |28195   |Bremen    |DE     |NULL  |julia.weber@firma.com   |NULL                 |\n",
      "|NULL      |NULL|00008     |Tequip       |NULL         |Bahnhofstraße 8   |70173   |Stuttgart |DE     |NULL  |karl.schulz@firma.com   |NULL                 |\n",
      "|NULL      |NULL|00009     |Tequip       |NULL         |Kirchweg 16       |60311   |Frankfurt |DE     |NULL  |martin.huber@firma.com  |NULL                 |\n",
      "|NULL      |NULL|00010     |Tequip       |NULL         |Am See 2          |78462   |Konstanz  |DE     |NULL  |sophie.fischer@firma.com|NULL                 |\n",
      "|NULL      |NULL|00011     |Tequip       |NULL         |Rosenweg 7        |94032   |Passau    |DE     |NULL  |max.müller@firma.com    |NULL                 |\n",
      "|NULL      |NULL|00012     |Tequip       |NULL         |Gropiusplatz 10   |70563   |Stuttgart |DE     |NULL  |test.user1@nexmart.com  |NULL                 |\n",
      "+----------+----+----------+-------------+-------------+------------------+--------+----------+-------+------+------------------------+---------------------+\n",
      "\n"
     ]
    }
   ],
   "source": [
    "# Customer data (CSV format)\n",
    "customer_df = inspect_dataset(\n",
    "    name=\"Customer\",\n",
    "    path=paths[\"customer_raw\"],\n",
    "    format_type=\"csv\",\n",
    "    options={\"header\": True, \"delimiter\": \";\"}  # Added delimiter for semicolon-separated values\n",
    ")\n",
    "#customer_df = spark.read.format(\"csv\").options(header=True, delimiter=\";\").load(paths[\"customer_raw\"])\n"
   ]
  },
  {
   "cell_type": "code",
   "execution_count": null,
   "metadata": {
    "application/vnd.databricks.v1+cell": {
     "cellMetadata": {
      "byteLimit": 2048000,
      "rowLimit": 10000
     },
     "inputWidgets": {},
     "nuid": "9ef3319f-4f49-4566-93b1-da971b830ddc",
     "showTitle": false,
     "tableResultSettingsMap": {},
     "title": ""
    }
   },
   "outputs": [
    {
     "name": "stdout",
     "output_type": "stream",
     "text": [
      "=== Inspecting customer Dataset ===\n",
      "root\n",
      " |-- customerID: string (nullable = true)\n",
      " |-- User: string (nullable = true)\n",
      " |-- SupplierID: string (nullable = true)\n",
      " |-- Customername1: string (nullable = true)\n",
      " |-- Customername2: string (nullable = true)\n",
      " |-- Street: string (nullable = true)\n",
      " |-- Postcode: string (nullable = true)\n",
      " |-- City: string (nullable = true)\n",
      " |-- Country: string (nullable = true)\n",
      " |-- Email1: string (nullable = true)\n",
      " |-- Email2: string (nullable = true)\n",
      " |-- AdditionalInformation: string (nullable = true)\n",
      "\n"
     ]
    },
    {
     "data": {
      "text/html": [
       "<style scoped>\n",
       "  .table-result-container {\n",
       "    max-height: 300px;\n",
       "    overflow: auto;\n",
       "  }\n",
       "  table, th, td {\n",
       "    border: 1px solid black;\n",
       "    border-collapse: collapse;\n",
       "  }\n",
       "  th, td {\n",
       "    padding: 5px;\n",
       "  }\n",
       "  th {\n",
       "    text-align: left;\n",
       "  }\n",
       "</style><div class='table-result-container'><table class='table-result'><thead style='background-color: white'><tr><th>customerID</th><th>User</th><th>SupplierID</th><th>Customername1</th><th>Customername2</th><th>Street</th><th>Postcode</th><th>City</th><th>Country</th><th>Email1</th><th>Email2</th><th>AdditionalInformation</th></tr></thead><tbody><tr><td>null</td><td>null</td><td>00001</td><td>Tequip</td><td>null</td><td>Gropiusplatz 10</td><td>70563</td><td>Stuttgart</td><td>DE</td><td>null</td><td>test.user2@nexmart.com</td><td>null</td></tr><tr><td>null</td><td>null</td><td>00002</td><td>Tequip</td><td>null</td><td>Hauptstraße 45</td><td>40210</td><td>Düsseldorf</td><td>DE</td><td>null</td><td>maria.muster@firma.com</td><td>null</td></tr><tr><td>null</td><td>null</td><td>00003</td><td>Tequip</td><td>null</td><td>Karlstraße 12</td><td>80331</td><td>München</td><td>DE</td><td>null</td><td>franz.meier@firma.com</td><td>null</td></tr><tr><td>null</td><td>null</td><td>00004</td><td>Tequip</td><td>null</td><td>Friedrichstraße 22</td><td>10969</td><td>Berlin</td><td>DE</td><td>null</td><td>lisa.schmidt@firma.com</td><td>null</td></tr><tr><td>null</td><td>null</td><td>00005</td><td>Tequip</td><td>null</td><td>Rathausplatz 3</td><td>10178</td><td>Berlin</td><td>DE</td><td>null</td><td>paul.bauer@firma.com</td><td>null</td></tr><tr><td>null</td><td>null</td><td>00006</td><td>Tequip</td><td>null</td><td>Schlossallee 5</td><td>01067</td><td>Dresden</td><td>DE</td><td>null</td><td>anna.klein@firma.com</td><td>null</td></tr><tr><td>null</td><td>null</td><td>00007</td><td>Tequip</td><td>null</td><td>Marktplatz 10</td><td>28195</td><td>Bremen</td><td>DE</td><td>null</td><td>julia.weber@firma.com</td><td>null</td></tr><tr><td>null</td><td>null</td><td>00008</td><td>Tequip</td><td>null</td><td>Bahnhofstraße 8</td><td>70173</td><td>Stuttgart</td><td>DE</td><td>null</td><td>karl.schulz@firma.com</td><td>null</td></tr><tr><td>null</td><td>null</td><td>00009</td><td>Tequip</td><td>null</td><td>Kirchweg 16</td><td>60311</td><td>Frankfurt</td><td>DE</td><td>null</td><td>martin.huber@firma.com</td><td>null</td></tr><tr><td>null</td><td>null</td><td>00010</td><td>Tequip</td><td>null</td><td>Am See 2</td><td>78462</td><td>Konstanz</td><td>DE</td><td>null</td><td>sophie.fischer@firma.com</td><td>null</td></tr></tbody></table></div>"
      ]
     },
     "metadata": {
      "application/vnd.databricks.v1+output": {
       "addedWidgets": {},
       "aggData": [],
       "aggError": "",
       "aggOverflow": false,
       "aggSchema": [],
       "aggSeriesLimitReached": false,
       "aggType": "",
       "arguments": {},
       "columnCustomDisplayInfos": {},
       "data": [
        [
         null,
         null,
         "00001",
         "Tequip",
         null,
         "Gropiusplatz 10",
         "70563",
         "Stuttgart",
         "DE",
         null,
         "test.user2@nexmart.com",
         null
        ],
        [
         null,
         null,
         "00002",
         "Tequip",
         null,
         "Hauptstraße 45",
         "40210",
         "Düsseldorf",
         "DE",
         null,
         "maria.muster@firma.com",
         null
        ],
        [
         null,
         null,
         "00003",
         "Tequip",
         null,
         "Karlstraße 12",
         "80331",
         "München",
         "DE",
         null,
         "franz.meier@firma.com",
         null
        ],
        [
         null,
         null,
         "00004",
         "Tequip",
         null,
         "Friedrichstraße 22",
         "10969",
         "Berlin",
         "DE",
         null,
         "lisa.schmidt@firma.com",
         null
        ],
        [
         null,
         null,
         "00005",
         "Tequip",
         null,
         "Rathausplatz 3",
         "10178",
         "Berlin",
         "DE",
         null,
         "paul.bauer@firma.com",
         null
        ],
        [
         null,
         null,
         "00006",
         "Tequip",
         null,
         "Schlossallee 5",
         "01067",
         "Dresden",
         "DE",
         null,
         "anna.klein@firma.com",
         null
        ],
        [
         null,
         null,
         "00007",
         "Tequip",
         null,
         "Marktplatz 10",
         "28195",
         "Bremen",
         "DE",
         null,
         "julia.weber@firma.com",
         null
        ],
        [
         null,
         null,
         "00008",
         "Tequip",
         null,
         "Bahnhofstraße 8",
         "70173",
         "Stuttgart",
         "DE",
         null,
         "karl.schulz@firma.com",
         null
        ],
        [
         null,
         null,
         "00009",
         "Tequip",
         null,
         "Kirchweg 16",
         "60311",
         "Frankfurt",
         "DE",
         null,
         "martin.huber@firma.com",
         null
        ],
        [
         null,
         null,
         "00010",
         "Tequip",
         null,
         "Am See 2",
         "78462",
         "Konstanz",
         "DE",
         null,
         "sophie.fischer@firma.com",
         null
        ]
       ],
       "datasetInfos": [],
       "dbfsResultPath": null,
       "isJsonSchema": true,
       "metadata": {},
       "overflow": false,
       "plotOptions": {
        "customPlotOptions": {},
        "displayType": "table",
        "pivotAggregation": null,
        "pivotColumns": null,
        "xColumns": null,
        "yColumns": null
       },
       "removedWidgets": [],
       "schema": [
        {
         "metadata": "{}",
         "name": "customerID",
         "type": "\"void\""
        },
        {
         "metadata": "{}",
         "name": "User",
         "type": "\"void\""
        },
        {
         "metadata": "{}",
         "name": "SupplierID",
         "type": "\"string\""
        },
        {
         "metadata": "{}",
         "name": "Customername1",
         "type": "\"string\""
        },
        {
         "metadata": "{}",
         "name": "Customername2",
         "type": "\"void\""
        },
        {
         "metadata": "{}",
         "name": "Street",
         "type": "\"string\""
        },
        {
         "metadata": "{}",
         "name": "Postcode",
         "type": "\"string\""
        },
        {
         "metadata": "{}",
         "name": "City",
         "type": "\"string\""
        },
        {
         "metadata": "{}",
         "name": "Country",
         "type": "\"string\""
        },
        {
         "metadata": "{}",
         "name": "Email1",
         "type": "\"void\""
        },
        {
         "metadata": "{}",
         "name": "Email2",
         "type": "\"string\""
        },
        {
         "metadata": "{}",
         "name": "AdditionalInformation",
         "type": "\"void\""
        }
       ],
       "type": "table"
      }
     },
     "output_type": "display_data"
    }
   ],
   "source": [
    "print(\"=== Inspecting customer Dataset ===\")\n",
    "customer_df.printSchema()\n",
    "display(customer_df.limit(10).toPandas())  # Display as table-like format"
   ]
  },
  {
   "cell_type": "code",
   "execution_count": null,
   "metadata": {
    "application/vnd.databricks.v1+cell": {
     "cellMetadata": {
      "byteLimit": 2048000,
      "rowLimit": 10000
     },
     "inputWidgets": {},
     "nuid": "07ccf321-1585-4c7c-9be8-3dd987c2dd32",
     "showTitle": false,
     "tableResultSettingsMap": {},
     "title": ""
    }
   },
   "outputs": [],
   "source": [
    "#Customer Dataset\n",
    "#Clean the customer data, handling missing values.\n",
    "\n",
    "# Handle missing values and create FullAddress column\n",
    "customer_transformed = customer_df \\\n",
    "    .withColumn(\n",
    "        \"FullAddress\", \n",
    "        concat(\n",
    "            when(col(\"Street\").isNotNull(), col(\"Street\")).otherwise(lit(\"Unknown\")), lit(\", \"),\n",
    "            when(col(\"City\").isNotNull(), col(\"City\")).otherwise(lit(\"Unknown\")), lit(\", \"),\n",
    "            when(col(\"Country\").isNotNull(), col(\"Country\")).otherwise(lit(\"Unknown\"))\n",
    "        )\n",
    "    ) \\\n",
    "    .fillna({\n",
    "        \"Email1\": \"Unknown\",  # Fill missing Email1 with \"Unknown\"\n",
    "        \"Email2\": \"Unknown\"   # Fill missing Email2 with \"Unknown\"\n",
    "    }) \\\n",
    "    .filter(col(\"customerID\").isNotNull())  # Ensure critical field `customerID` is not NULL\n",
    "\n"
   ]
  },
  {
   "cell_type": "markdown",
   "metadata": {
    "application/vnd.databricks.v1+cell": {
     "cellMetadata": {},
     "inputWidgets": {},
     "nuid": "fef35a93-d8eb-4fb3-9d03-96a62c53bfe6",
     "showTitle": false,
     "tableResultSettingsMap": {},
     "title": ""
    }
   },
   "source": [
    "##4. Write Transformed Data to Processed Folder\n",
    "Save the transformed datasets into the processed folder."
   ]
  },
  {
   "cell_type": "code",
   "execution_count": null,
   "metadata": {
    "application/vnd.databricks.v1+cell": {
     "cellMetadata": {},
     "inputWidgets": {},
     "nuid": "ececf664-e690-44a3-8cb8-8ee8b16ce980",
     "showTitle": false,
     "tableResultSettingsMap": {},
     "title": ""
    }
   },
   "outputs": [],
   "source": [
    "customer_transformed.write.format(\"parquet\").mode(\"overwrite\").save(paths[\"customer_processed\"])\n"
   ]
  }
 ],
 "metadata": {
  "application/vnd.databricks.v1+notebook": {
   "computePreferences": null,
   "dashboards": [],
   "environmentMetadata": {
    "base_environment": "",
    "client": "1"
   },
   "language": "python",
   "notebookMetadata": {
    "pythonIndentUnit": 4
   },
   "notebookName": "TransformCustomerToProcessed",
   "widgets": {}
  },
  "language_info": {
   "name": "python"
  }
 },
 "nbformat": 4,
 "nbformat_minor": 0
}
