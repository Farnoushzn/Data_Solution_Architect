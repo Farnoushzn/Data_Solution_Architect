{
 "cells": [
  {
   "cell_type": "code",
   "execution_count": null,
   "metadata": {
    "application/vnd.databricks.v1+cell": {
     "cellMetadata": {
      "byteLimit": 2048000,
      "rowLimit": 10000
     },
     "inputWidgets": {},
     "nuid": "02abf89b-5ef9-4508-856d-030939bcb2ab",
     "showTitle": false,
     "tableResultSettingsMap": {},
     "title": ""
    }
   },
   "outputs": [],
   "source": [
    "# Import necessary libraries\n",
    "from pyspark.sql import SparkSession\n",
    "from pyspark.sql import DataFrame\n",
    "from pyspark.sql.functions import col, when, lit, split, concat, regexp_extract\n",
    "\n"
   ]
  },
  {
   "cell_type": "code",
   "execution_count": null,
   "metadata": {
    "application/vnd.databricks.v1+cell": {
     "cellMetadata": {
      "byteLimit": 2048000,
      "rowLimit": 10000
     },
     "inputWidgets": {},
     "nuid": "87e5ba7d-b04a-4ac4-a3b8-f7572bd361d2",
     "showTitle": false,
     "tableResultSettingsMap": {},
     "title": ""
    }
   },
   "outputs": [],
   "source": [
    "# Initialize Spark session\n",
    "spark = SparkSession.builder.appName(\"InspectRawData\").getOrCreate()\n"
   ]
  },
  {
   "cell_type": "code",
   "execution_count": null,
   "metadata": {
    "application/vnd.databricks.v1+cell": {
     "cellMetadata": {
      "byteLimit": 2048000,
      "rowLimit": 10000
     },
     "inputWidgets": {},
     "nuid": "d1cf07da-040c-4683-845f-9ff47a912736",
     "showTitle": false,
     "tableResultSettingsMap": {},
     "title": ""
    }
   },
   "outputs": [],
   "source": [
    "# Azure Data Lake paths (replace placeholders with actual values)\n",
    "storage_account_name = \"datalakestoragetask\"  # Replace with your storage account name\n",
    "raw_container = \"raw\"\n",
    "processed_container = \"processed\"\n",
    "storage_key = \"\"  # Replace with your key or credential method\n",
    "\n",
    "# Configure Spark to access Azure Data Lake\n",
    "spark.conf.set(f\"fs.azure.account.key.{storage_account_name}.dfs.core.windows.net\", storage_key)\n",
    "\n",
    "# Define paths for each dataset\n",
    "paths = {\n",
    "    \"price_stock_raw\": f\"abfss://{raw_container}@{storage_account_name}.dfs.core.windows.net/price_and_stock\",\n",
    "    \"price_stock_processed\": f\"abfss://{processed_container}@{storage_account_name}.dfs.core.windows.net/price_and_stock\"\n",
    "\n",
    "}\n"
   ]
  },
  {
   "cell_type": "code",
   "execution_count": null,
   "metadata": {
    "application/vnd.databricks.v1+cell": {
     "cellMetadata": {
      "byteLimit": 2048000,
      "rowLimit": 10000
     },
     "inputWidgets": {},
     "nuid": "7cf152ad-72ca-424c-9ada-74a33c3c1a98",
     "showTitle": false,
     "tableResultSettingsMap": {},
     "title": ""
    }
   },
   "outputs": [
    {
     "name": "stdout",
     "output_type": "stream",
     "text": [
      "\n",
      "--- Starting Inspection ---\n",
      "\n"
     ]
    }
   ],
   "source": [
    "# Function to inspect a dataset\n",
    "def inspect_dataset(name, path, format_type, options={}):\n",
    "    print(f\"\\n=== Inspecting {name} Dataset ===\")\n",
    "    try:\n",
    "        # Load dataset based on format\n",
    "        df = spark.read.format(format_type).options(**options).load(path)\n",
    "        \n",
    "        # Show schema and a sample of the data\n",
    "        df.printSchema()\n",
    "        df.limit(30).show(truncate=False)\n",
    "        \n",
    "        # Return DataFrame for further analysis if needed\n",
    "        return df\n",
    "    except Exception as e:\n",
    "        print(f\"Error reading {name} data: {e}\")\n",
    "        return None\n",
    "\n",
    "# Inspect datasets one by one\n",
    "print(\"\\n--- Starting Inspection ---\\n\")\n",
    "\n"
   ]
  },
  {
   "cell_type": "code",
   "execution_count": null,
   "metadata": {
    "application/vnd.databricks.v1+cell": {
     "cellMetadata": {
      "byteLimit": 2048000,
      "rowLimit": 10000
     },
     "inputWidgets": {},
     "nuid": "ef5cc5a7-178e-4637-89f0-97bdcf6072cb",
     "showTitle": false,
     "tableResultSettingsMap": {},
     "title": ""
    }
   },
   "outputs": [
    {
     "name": "stdout",
     "output_type": "stream",
     "text": [
      "\n",
      "=== Inspecting Price Dataset ===\n",
      "root\n",
      " |-- manufacturer: string (nullable = true)\n",
      " |-- manufacturer_pid: string (nullable = true)\n",
      " |-- retailer_pid: string (nullable = true)\n",
      " |-- order_unit: string (nullable = true)\n",
      " |-- price: string (nullable = true)\n",
      " |-- price_base: string (nullable = true)\n",
      " |-- currency: string (nullable = true)\n",
      " |-- tax_class: string (nullable = true)\n",
      " |-- saleable: string (nullable = true)\n",
      "\n",
      "+------------+----------------+------------+----------+-----+----------+--------+---------+--------+\n",
      "|manufacturer|manufacturer_pid|retailer_pid|order_unit|price|price_base|currency|tax_class|saleable|\n",
      "+------------+----------------+------------+----------+-----+----------+--------+---------+--------+\n",
      "|tequip      |11060           |11060       |C62       |579  |1         |EUR     |1        |1       |\n",
      "|tequip      |DEMO            |DEMO        |C62       |99.99|1         |EUR     |1        |1       |\n",
      "|tequip      |9999911111      |9999911111  |C62       |0.02 |1         |EUR     |1        |1       |\n",
      "+------------+----------------+------------+----------+-----+----------+--------+---------+--------+\n",
      "\n"
     ]
    }
   ],
   "source": [
    "# Price data (CSV format)\n",
    "price_df = inspect_dataset(\n",
    "    name=\"Price\",\n",
    "    path=paths[\"price_stock_raw\"] + \"/PRICE-RET0001-202410151405.csv\",  # Specific price file\n",
    "    format_type=\"csv\",\n",
    "    options={\"header\": True, \"delimiter\": \";\", \"quote\": '\"'}  # Added delimiter for semicolon-separated values\n",
    "\n",
    ")"
   ]
  },
  {
   "cell_type": "code",
   "execution_count": null,
   "metadata": {
    "application/vnd.databricks.v1+cell": {
     "cellMetadata": {
      "byteLimit": 2048000,
      "rowLimit": 10000
     },
     "inputWidgets": {},
     "nuid": "3012fa55-e1a1-4fac-8c1e-90dcf007ac89",
     "showTitle": false,
     "tableResultSettingsMap": {},
     "title": ""
    }
   },
   "outputs": [
    {
     "name": "stdout",
     "output_type": "stream",
     "text": [
      "=== Inspecting order Dataset ===\n",
      "root\n",
      " |-- manufacturer: string (nullable = true)\n",
      " |-- manufacturer_pid: string (nullable = true)\n",
      " |-- retailer_pid: string (nullable = true)\n",
      " |-- order_unit: string (nullable = true)\n",
      " |-- price: string (nullable = true)\n",
      " |-- price_base: string (nullable = true)\n",
      " |-- currency: string (nullable = true)\n",
      " |-- tax_class: string (nullable = true)\n",
      " |-- saleable: string (nullable = true)\n",
      "\n"
     ]
    },
    {
     "data": {
      "text/html": [
       "<style scoped>\n",
       "  .table-result-container {\n",
       "    max-height: 300px;\n",
       "    overflow: auto;\n",
       "  }\n",
       "  table, th, td {\n",
       "    border: 1px solid black;\n",
       "    border-collapse: collapse;\n",
       "  }\n",
       "  th, td {\n",
       "    padding: 5px;\n",
       "  }\n",
       "  th {\n",
       "    text-align: left;\n",
       "  }\n",
       "</style><div class='table-result-container'><table class='table-result'><thead style='background-color: white'><tr><th>manufacturer</th><th>manufacturer_pid</th><th>retailer_pid</th><th>order_unit</th><th>price</th><th>price_base</th><th>currency</th><th>tax_class</th><th>saleable</th></tr></thead><tbody><tr><td>tequip</td><td>11060</td><td>11060</td><td>C62</td><td>579</td><td>1</td><td>EUR</td><td>1</td><td>1</td></tr><tr><td>tequip</td><td>DEMO</td><td>DEMO</td><td>C62</td><td>99.99</td><td>1</td><td>EUR</td><td>1</td><td>1</td></tr><tr><td>tequip</td><td>9999911111</td><td>9999911111</td><td>C62</td><td>0.02</td><td>1</td><td>EUR</td><td>1</td><td>1</td></tr></tbody></table></div>"
      ]
     },
     "metadata": {
      "application/vnd.databricks.v1+output": {
       "addedWidgets": {},
       "aggData": [],
       "aggError": "",
       "aggOverflow": false,
       "aggSchema": [],
       "aggSeriesLimitReached": false,
       "aggType": "",
       "arguments": {},
       "columnCustomDisplayInfos": {},
       "data": [
        [
         "tequip",
         "11060",
         "11060",
         "C62",
         "579",
         "1",
         "EUR",
         "1",
         "1"
        ],
        [
         "tequip",
         "DEMO",
         "DEMO",
         "C62",
         "99.99",
         "1",
         "EUR",
         "1",
         "1"
        ],
        [
         "tequip",
         "9999911111",
         "9999911111",
         "C62",
         "0.02",
         "1",
         "EUR",
         "1",
         "1"
        ]
       ],
       "datasetInfos": [],
       "dbfsResultPath": null,
       "isJsonSchema": true,
       "metadata": {},
       "overflow": false,
       "plotOptions": {
        "customPlotOptions": {},
        "displayType": "table",
        "pivotAggregation": null,
        "pivotColumns": null,
        "xColumns": null,
        "yColumns": null
       },
       "removedWidgets": [],
       "schema": [
        {
         "metadata": "{}",
         "name": "manufacturer",
         "type": "\"string\""
        },
        {
         "metadata": "{}",
         "name": "manufacturer_pid",
         "type": "\"string\""
        },
        {
         "metadata": "{}",
         "name": "retailer_pid",
         "type": "\"string\""
        },
        {
         "metadata": "{}",
         "name": "order_unit",
         "type": "\"string\""
        },
        {
         "metadata": "{}",
         "name": "price",
         "type": "\"string\""
        },
        {
         "metadata": "{}",
         "name": "price_base",
         "type": "\"string\""
        },
        {
         "metadata": "{}",
         "name": "currency",
         "type": "\"string\""
        },
        {
         "metadata": "{}",
         "name": "tax_class",
         "type": "\"string\""
        },
        {
         "metadata": "{}",
         "name": "saleable",
         "type": "\"string\""
        }
       ],
       "type": "table"
      }
     },
     "output_type": "display_data"
    }
   ],
   "source": [
    "print(\"=== Inspecting price Dataset ===\")\n",
    "price_df.printSchema()\n",
    "display(price_df.limit(7).toPandas())  # Display as table-like format"
   ]
  },
  {
   "cell_type": "code",
   "execution_count": null,
   "metadata": {
    "application/vnd.databricks.v1+cell": {
     "cellMetadata": {
      "byteLimit": 2048000,
      "rowLimit": 10000
     },
     "inputWidgets": {},
     "nuid": "c334f130-ca5c-4820-99e7-05f472353dab",
     "showTitle": false,
     "tableResultSettingsMap": {},
     "title": ""
    }
   },
   "outputs": [
    {
     "name": "stdout",
     "output_type": "stream",
     "text": [
      "+------------+----------------+------------+----------+-----+----------+--------+---------+--------+\n",
      "|manufacturer|manufacturer_pid|retailer_pid|order_unit|price|price_base|currency|tax_class|saleable|\n",
      "+------------+----------------+------------+----------+-----+----------+--------+---------+--------+\n",
      "|      tequip|      9999911111|  9999911111|       C62| 0.02|         1|     EUR|        1|       1|\n",
      "|      tequip|           11060|       11060|       C62|579.0|         1|     EUR|        1|       1|\n",
      "|      tequip|            DEMO|        DEMO|       C62|99.99|         1|     EUR|        1|       1|\n",
      "+------------+----------------+------------+----------+-----+----------+--------+---------+--------+\n",
      "\n"
     ]
    }
   ],
   "source": [
    "#Price Dataset\n",
    "#Handle any currency conversions or missing values.\n",
    "\n",
    "# price_transformed = price_df.withColumnRenamed(\"price\", \"price_amount\").withColumn(\n",
    "#     \"is_on_sale\", when(col(\"saleable\") == \"1\", lit(True)).otherwise(lit(False))\n",
    "# )\n",
    "\n",
    "# Clean Price Data\n",
    "price_transformed = price_df.filter(\n",
    "    col(\"price\").isNotNull() & col(\"manufacturer_pid\").isNotNull()\n",
    ").withColumn(\"price\", col(\"price\").cast(\"double\")) # withColumn: Converts the data type of the price column(if string) to a double\n",
    "\n",
    "price_transformed = price_transformed.dropDuplicates()\n",
    "\n",
    "# Validate\n",
    "price_transformed.show()\n"
   ]
  },
  {
   "cell_type": "markdown",
   "metadata": {
    "application/vnd.databricks.v1+cell": {
     "cellMetadata": {},
     "inputWidgets": {},
     "nuid": "db514f3b-e641-42da-a2fd-57c63192fcc8",
     "showTitle": false,
     "tableResultSettingsMap": {},
     "title": ""
    }
   },
   "source": [
    "##4. Write Transformed Data to Processed Folder\n",
    "Save the transformed datasets into the processed folder."
   ]
  },
  {
   "cell_type": "code",
   "execution_count": null,
   "metadata": {
    "application/vnd.databricks.v1+cell": {
     "cellMetadata": {},
     "inputWidgets": {},
     "nuid": "fa194343-ec73-420c-a9c2-240d7f43da1e",
     "showTitle": false,
     "tableResultSettingsMap": {},
     "title": ""
    }
   },
   "outputs": [],
   "source": [
    "price_transformed.write.format(\"parquet\").mode(\"overwrite\").save(paths[\"price_stock_processed\"] + \"/price\")\n"
   ]
  }
 ],
 "metadata": {
  "application/vnd.databricks.v1+notebook": {
   "computePreferences": null,
   "dashboards": [],
   "environmentMetadata": {
    "base_environment": "",
    "client": "1"
   },
   "language": "python",
   "notebookMetadata": {
    "pythonIndentUnit": 4
   },
   "notebookName": "TransformPriceToProcessed",
   "widgets": {}
  },
  "language_info": {
   "name": "python"
  }
 },
 "nbformat": 4,
 "nbformat_minor": 0
}
