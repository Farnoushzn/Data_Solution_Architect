{
 "cells": [
  {
   "cell_type": "code",
   "execution_count": null,
   "metadata": {
    "application/vnd.databricks.v1+cell": {
     "cellMetadata": {
      "byteLimit": 2048000,
      "rowLimit": 10000
     },
     "inputWidgets": {},
     "nuid": "952f9b54-b2c7-49ab-b86c-99278fc2c10a",
     "showTitle": false,
     "tableResultSettingsMap": {},
     "title": ""
    }
   },
   "outputs": [],
   "source": [
    "# Import necessary libraries\n",
    "from pyspark.sql import SparkSession\n",
    "from pyspark.sql import DataFrame\n",
    "from pyspark.sql.functions import col, when, lit, split, concat, regexp_extract\n",
    "\n"
   ]
  },
  {
   "cell_type": "code",
   "execution_count": null,
   "metadata": {
    "application/vnd.databricks.v1+cell": {
     "cellMetadata": {
      "byteLimit": 2048000,
      "rowLimit": 10000
     },
     "inputWidgets": {},
     "nuid": "55ff34b3-4989-4c28-96e4-368da6c46ef2",
     "showTitle": false,
     "tableResultSettingsMap": {},
     "title": ""
    }
   },
   "outputs": [],
   "source": [
    "# Initialize Spark session\n",
    "spark = SparkSession.builder.appName(\"InspectRawData\").getOrCreate()\n"
   ]
  },
  {
   "cell_type": "code",
   "execution_count": null,
   "metadata": {
    "application/vnd.databricks.v1+cell": {
     "cellMetadata": {
      "byteLimit": 2048000,
      "rowLimit": 10000
     },
     "inputWidgets": {},
     "nuid": "06e315dc-63f4-4324-aba4-c9affbbd287a",
     "showTitle": false,
     "tableResultSettingsMap": {},
     "title": ""
    }
   },
   "outputs": [],
   "source": [
    "# Azure Data Lake paths (replace placeholders with actual values)\n",
    "storage_account_name = \"datalakestoragetask\"  # Replace with your storage account name\n",
    "raw_container = \"raw\"\n",
    "processed_container = \"processed\"\n",
    "storage_key = \"\"  # Replace with your key or credential method\n",
    "\n",
    "# Configure Spark to access Azure Data Lake\n",
    "spark.conf.set(f\"fs.azure.account.key.{storage_account_name}.dfs.core.windows.net\", storage_key)\n",
    "\n",
    "# Define paths for each dataset\n",
    "paths = {\n",
    "    \"price_stock_raw\": f\"abfss://{raw_container}@{storage_account_name}.dfs.core.windows.net/price_and_stock\",\n",
    "    \"price_stock_processed\": f\"abfss://{processed_container}@{storage_account_name}.dfs.core.windows.net/price_and_stock\"\n",
    "\n",
    "}\n"
   ]
  },
  {
   "cell_type": "code",
   "execution_count": null,
   "metadata": {
    "application/vnd.databricks.v1+cell": {
     "cellMetadata": {
      "byteLimit": 2048000,
      "rowLimit": 10000
     },
     "inputWidgets": {},
     "nuid": "e717bf9c-f5f2-4d61-a207-661f4b837dd0",
     "showTitle": false,
     "tableResultSettingsMap": {},
     "title": ""
    }
   },
   "outputs": [
    {
     "name": "stdout",
     "output_type": "stream",
     "text": [
      "\n",
      "--- Starting Inspection ---\n",
      "\n"
     ]
    }
   ],
   "source": [
    "# Function to inspect a dataset\n",
    "def inspect_dataset(name, path, format_type, options={}):\n",
    "    print(f\"\\n=== Inspecting {name} Dataset ===\")\n",
    "    try:\n",
    "        # Load dataset based on format\n",
    "        df = spark.read.format(format_type).options(**options).load(path)\n",
    "        \n",
    "        # Show schema and a sample of the data\n",
    "        df.printSchema()\n",
    "        df.limit(30).show(truncate=False)\n",
    "        \n",
    "        # Return DataFrame for further analysis if needed\n",
    "        return df\n",
    "    except Exception as e:\n",
    "        print(f\"Error reading {name} data: {e}\")\n",
    "        return None\n",
    "\n",
    "# Inspect datasets one by one\n",
    "print(\"\\n--- Starting Inspection ---\\n\")\n",
    "\n"
   ]
  },
  {
   "cell_type": "code",
   "execution_count": null,
   "metadata": {
    "application/vnd.databricks.v1+cell": {
     "cellMetadata": {
      "byteLimit": 2048000,
      "rowLimit": 10000
     },
     "inputWidgets": {},
     "nuid": "fc854e79-111e-41dc-b79d-bb746d88f807",
     "showTitle": false,
     "tableResultSettingsMap": {},
     "title": ""
    }
   },
   "outputs": [
    {
     "name": "stdout",
     "output_type": "stream",
     "text": [
      "\n",
      "=== Inspecting Stock Dataset ===\n",
      "root\n",
      " |-- manufacturer: string (nullable = true)\n",
      " |-- manufacturer_pid: string (nullable = true)\n",
      " |-- retailer_pid: string (nullable = true)\n",
      " |-- order_unit: string (nullable = true)\n",
      " |-- quantity: string (nullable = true)\n",
      " |--  replenishment_time: string (nullable = true)\n",
      " |-- deeplink: string (nullable = true)\n",
      "\n",
      "+------------+----------------+------------+----------+--------+-------------------+----------------------------------+\n",
      "|manufacturer|manufacturer_pid|retailer_pid|order_unit|quantity| replenishment_time|deeplink                          |\n",
      "+------------+----------------+------------+----------+--------+-------------------+----------------------------------+\n",
      "|tequip_de   |11060           |11060       |C62       |99      |3                  |https://www.test.tequip/11060     |\n",
      "|tequip_de   |DEMO            |DEMO        |C62       |0       |3                  |https://www.test.tequip/DEMO      |\n",
      "|tequip_de   |9999911111      |9999911111  |C62       |15      |3                  |https://www.test.tequip/9999911111|\n",
      "+------------+----------------+------------+----------+--------+-------------------+----------------------------------+\n",
      "\n",
      "\n",
      "--- Inspection Completed ---\n"
     ]
    }
   ],
   "source": [
    "# Stock data (CSV format)\n",
    "stock_df = inspect_dataset(\n",
    "    name=\"Stock\",\n",
    "    path=paths[\"price_stock_raw\"] + \"/STOCK-RET0001-202410151330.csv\",  # Specific stock file\n",
    "    format_type=\"csv\",\n",
    "    #options={\"header\": True}  # Read as CSV with header\n",
    "    options={\"header\": True, \"delimiter\": \";\", \"quote\": '\"'}  # Added delimiter for semicolon-separated values\n",
    "\n",
    ")\n",
    "\n",
    "print(\"\\n--- Inspection Completed ---\")\n"
   ]
  },
  {
   "cell_type": "code",
   "execution_count": null,
   "metadata": {
    "application/vnd.databricks.v1+cell": {
     "cellMetadata": {
      "byteLimit": 2048000,
      "rowLimit": 10000
     },
     "inputWidgets": {},
     "nuid": "855893cf-eaa1-413b-8362-280b37655428",
     "showTitle": false,
     "tableResultSettingsMap": {},
     "title": ""
    }
   },
   "outputs": [
    {
     "name": "stdout",
     "output_type": "stream",
     "text": [
      "=== Inspecting price Dataset ===\n",
      "root\n",
      " |-- manufacturer: string (nullable = true)\n",
      " |-- manufacturer_pid: string (nullable = true)\n",
      " |-- retailer_pid: string (nullable = true)\n",
      " |-- order_unit: string (nullable = true)\n",
      " |-- quantity: string (nullable = true)\n",
      " |--  replenishment_time: string (nullable = true)\n",
      " |-- deeplink: string (nullable = true)\n",
      "\n"
     ]
    },
    {
     "data": {
      "text/html": [
       "<style scoped>\n",
       "  .table-result-container {\n",
       "    max-height: 300px;\n",
       "    overflow: auto;\n",
       "  }\n",
       "  table, th, td {\n",
       "    border: 1px solid black;\n",
       "    border-collapse: collapse;\n",
       "  }\n",
       "  th, td {\n",
       "    padding: 5px;\n",
       "  }\n",
       "  th {\n",
       "    text-align: left;\n",
       "  }\n",
       "</style><div class='table-result-container'><table class='table-result'><thead style='background-color: white'><tr><th>manufacturer</th><th>manufacturer_pid</th><th>retailer_pid</th><th>order_unit</th><th>quantity</th><th> replenishment_time</th><th>deeplink</th></tr></thead><tbody><tr><td>tequip_de</td><td>11060</td><td>11060</td><td>C62</td><td>99</td><td>3</td><td>https://www.test.tequip/11060</td></tr><tr><td>tequip_de</td><td>DEMO</td><td>DEMO</td><td>C62</td><td>0</td><td>3</td><td>https://www.test.tequip/DEMO</td></tr><tr><td>tequip_de</td><td>9999911111</td><td>9999911111</td><td>C62</td><td>15</td><td>3</td><td>https://www.test.tequip/9999911111</td></tr></tbody></table></div>"
      ]
     },
     "metadata": {
      "application/vnd.databricks.v1+output": {
       "addedWidgets": {},
       "aggData": [],
       "aggError": "",
       "aggOverflow": false,
       "aggSchema": [],
       "aggSeriesLimitReached": false,
       "aggType": "",
       "arguments": {},
       "columnCustomDisplayInfos": {},
       "data": [
        [
         "tequip_de",
         "11060",
         "11060",
         "C62",
         "99",
         "3",
         "https://www.test.tequip/11060"
        ],
        [
         "tequip_de",
         "DEMO",
         "DEMO",
         "C62",
         "0",
         "3",
         "https://www.test.tequip/DEMO"
        ],
        [
         "tequip_de",
         "9999911111",
         "9999911111",
         "C62",
         "15",
         "3",
         "https://www.test.tequip/9999911111"
        ]
       ],
       "datasetInfos": [],
       "dbfsResultPath": null,
       "isJsonSchema": true,
       "metadata": {},
       "overflow": false,
       "plotOptions": {
        "customPlotOptions": {},
        "displayType": "table",
        "pivotAggregation": null,
        "pivotColumns": null,
        "xColumns": null,
        "yColumns": null
       },
       "removedWidgets": [],
       "schema": [
        {
         "metadata": "{}",
         "name": "manufacturer",
         "type": "\"string\""
        },
        {
         "metadata": "{}",
         "name": "manufacturer_pid",
         "type": "\"string\""
        },
        {
         "metadata": "{}",
         "name": "retailer_pid",
         "type": "\"string\""
        },
        {
         "metadata": "{}",
         "name": "order_unit",
         "type": "\"string\""
        },
        {
         "metadata": "{}",
         "name": "quantity",
         "type": "\"string\""
        },
        {
         "metadata": "{}",
         "name": " replenishment_time",
         "type": "\"string\""
        },
        {
         "metadata": "{}",
         "name": "deeplink",
         "type": "\"string\""
        }
       ],
       "type": "table"
      }
     },
     "output_type": "display_data"
    }
   ],
   "source": [
    "print(\"=== Inspecting price Dataset ===\")\n",
    "stock_df.printSchema()\n",
    "display(stock_df.limit(10).toPandas())  # Display as table-like format"
   ]
  },
  {
   "cell_type": "code",
   "execution_count": null,
   "metadata": {
    "application/vnd.databricks.v1+cell": {
     "cellMetadata": {
      "byteLimit": 2048000,
      "rowLimit": 10000
     },
     "inputWidgets": {},
     "nuid": "fa4c316a-f220-4186-8bab-9ff295b09da5",
     "showTitle": false,
     "tableResultSettingsMap": {},
     "title": ""
    }
   },
   "outputs": [
    {
     "name": "stdout",
     "output_type": "stream",
     "text": [
      "+------------+----------------+------------+----------+--------+-------------------+--------------------+\n",
      "|manufacturer|manufacturer_pid|retailer_pid|order_unit|quantity| replenishment_time|            deeplink|\n",
      "+------------+----------------+------------+----------+--------+-------------------+--------------------+\n",
      "|   tequip_de|           11060|       11060|       C62|      99|                  3|https://www.test....|\n",
      "|   tequip_de|      9999911111|  9999911111|       C62|      15|                  3|https://www.test....|\n",
      "+------------+----------------+------------+----------+--------+-------------------+--------------------+\n",
      "\n"
     ]
    }
   ],
   "source": [
    "#Stock Dataset\n",
    "# Clean Stock Data\n",
    "stock_transformed = stock_df.filter(\n",
    "    col(\"quantity\").isNotNull() & (col(\"quantity\").cast(\"int\") > 0)\n",
    ").withColumn(\"quantity\", col(\"quantity\").cast(\"int\"))\n",
    "\n",
    "# #Add calculated columns for stock availability.\n",
    "# stock_transformed = stock_df.withColumn(\n",
    "#     \"stock_status\", \n",
    "#     when(col(\"quantity\") > 0, lit(\"In Stock\")).otherwise(lit(\"Out of Stock\"))\n",
    "# )\n",
    "\n",
    "# Validate the cleaned data\n",
    "stock_transformed.show()"
   ]
  },
  {
   "cell_type": "markdown",
   "metadata": {
    "application/vnd.databricks.v1+cell": {
     "cellMetadata": {},
     "inputWidgets": {},
     "nuid": "01bebd02-bb7b-46b2-a295-baa5387082d2",
     "showTitle": false,
     "tableResultSettingsMap": {},
     "title": ""
    }
   },
   "source": [
    "##4. Write Transformed Data to Processed Folder\n",
    "Save the transformed datasets into the processed folder."
   ]
  },
  {
   "cell_type": "code",
   "execution_count": null,
   "metadata": {
    "application/vnd.databricks.v1+cell": {
     "cellMetadata": {},
     "inputWidgets": {},
     "nuid": "fb1f5888-e6cc-4356-a078-f54b8760bde4",
     "showTitle": false,
     "tableResultSettingsMap": {},
     "title": ""
    }
   },
   "outputs": [],
   "source": [
    "stock_transformed.write.format(\"parquet\").mode(\"overwrite\").save(paths[\"price_stock_processed\"] + \"/stock\")\n"
   ]
  }
 ],
 "metadata": {
  "application/vnd.databricks.v1+notebook": {
   "computePreferences": null,
   "dashboards": [],
   "environmentMetadata": {
    "base_environment": "",
    "client": "1"
   },
   "language": "python",
   "notebookMetadata": {
    "pythonIndentUnit": 4
   },
   "notebookName": "TransformStockToProcessed",
   "widgets": {}
  },
  "language_info": {
   "name": "python"
  }
 },
 "nbformat": 4,
 "nbformat_minor": 0
}
