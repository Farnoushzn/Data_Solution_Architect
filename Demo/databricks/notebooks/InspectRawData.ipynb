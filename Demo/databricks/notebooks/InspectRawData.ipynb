{
 "cells": [
  {
   "cell_type": "code",
   "execution_count": null,
   "metadata": {
    "application/vnd.databricks.v1+cell": {
     "cellMetadata": {
      "byteLimit": 2048000,
      "rowLimit": 10000
     },
     "inputWidgets": {},
     "nuid": "7d1f0474-bf52-4576-a0ea-7609069383f4",
     "showTitle": false,
     "tableResultSettingsMap": {},
     "title": ""
    }
   },
   "outputs": [],
   "source": [
    "# Import necessary libraries\n",
    "from pyspark.sql import SparkSession\n",
    "from pyspark.sql import DataFrame\n"
   ]
  },
  {
   "cell_type": "code",
   "execution_count": null,
   "metadata": {
    "application/vnd.databricks.v1+cell": {
     "cellMetadata": {
      "byteLimit": 2048000,
      "rowLimit": 10000
     },
     "inputWidgets": {},
     "nuid": "2020c5a9-5397-46a2-a0d4-eae2d94c22bc",
     "showTitle": false,
     "tableResultSettingsMap": {},
     "title": ""
    }
   },
   "outputs": [],
   "source": [
    "# Initialize Spark session\n",
    "spark = SparkSession.builder.appName(\"InspectRawData\").getOrCreate()\n"
   ]
  },
  {
   "cell_type": "code",
   "execution_count": null,
   "metadata": {
    "application/vnd.databricks.v1+cell": {
     "cellMetadata": {
      "byteLimit": 2048000,
      "rowLimit": 10000
     },
     "inputWidgets": {},
     "nuid": "2c30ec70-8af9-4f56-80b9-aa130fe65c2f",
     "showTitle": false,
     "tableResultSettingsMap": {},
     "title": ""
    }
   },
   "outputs": [],
   "source": [
    "# Azure Data Lake paths (replace placeholders with actual values)\n",
    "storage_account_name = \"datalakestoragetask\"  # Replace with your storage account name\n",
    "raw_container = \"raw\"\n",
    "processed_container = \"processed\"\n",
    "storage_key = \"\"  # Replace with your key or credential method\n",
    "\n",
    "# Configure Spark to access Azure Data Lake\n",
    "spark.conf.set(f\"fs.azure.account.key.{storage_account_name}.dfs.core.windows.net\", storage_key)\n",
    "\n",
    "# Define paths for each dataset\n",
    "paths = {\n",
    "    \"catalog\": f\"abfss://{raw_container}@{storage_account_name}.dfs.core.windows.net/catalog\",\n",
    "    \"customer\": f\"abfss://{raw_container}@{storage_account_name}.dfs.core.windows.net/customer\",\n",
    "    \"order\": f\"abfss://{raw_container}@{storage_account_name}.dfs.core.windows.net/order\",\n",
    "    \"price_stock\": f\"abfss://{raw_container}@{storage_account_name}.dfs.core.windows.net/price_and_stock\"\n",
    "}\n",
    "\n"
   ]
  },
  {
   "cell_type": "code",
   "execution_count": null,
   "metadata": {
    "application/vnd.databricks.v1+cell": {
     "cellMetadata": {
      "byteLimit": 2048000,
      "rowLimit": 10000
     },
     "inputWidgets": {},
     "nuid": "c4c25fcb-7679-49fa-a5ec-3098d3063db9",
     "showTitle": false,
     "tableResultSettingsMap": {},
     "title": ""
    }
   },
   "outputs": [
    {
     "name": "stdout",
     "output_type": "stream",
     "text": [
      "\n",
      "--- Starting Inspection ---\n",
      "\n"
     ]
    }
   ],
   "source": [
    "# Function to inspect a dataset\n",
    "def inspect_dataset(name, path, format_type, options={}):\n",
    "    print(f\"\\n=== Inspecting {name} Dataset ===\")\n",
    "    try:\n",
    "        # Load dataset based on format\n",
    "        df = spark.read.format(format_type).options(**options).load(path)\n",
    "        \n",
    "        # Show schema and a sample of the data\n",
    "        df.printSchema()\n",
    "        df.limit(30).show(truncate=False)\n",
    "        \n",
    "        # Return DataFrame for further analysis if needed\n",
    "        return df\n",
    "    except Exception as e:\n",
    "        print(f\"Error reading {name} data: {e}\")\n",
    "        return None\n",
    "\n",
    "# Inspect datasets one by one\n",
    "print(\"\\n--- Starting Inspection ---\\n\")\n",
    "\n"
   ]
  },
  {
   "cell_type": "code",
   "execution_count": null,
   "metadata": {
    "application/vnd.databricks.v1+cell": {
     "cellMetadata": {
      "byteLimit": 2048000,
      "rowLimit": 10000
     },
     "inputWidgets": {},
     "nuid": "669423ff-1603-4a13-9fab-2a8cdcc3aa09",
     "showTitle": false,
     "tableResultSettingsMap": {},
     "title": ""
    }
   },
   "outputs": [],
   "source": [
    "# Catalog data (XML format)\n",
    "catalog_df = inspect_dataset(\n",
    "    name=\"Catalog\",\n",
    "    path=paths[\"catalog\"],\n",
    "    format_type=\"xml\",\n",
    "    options={\"rowTag\": \"PRODUCT\"}  # Updated to 'PRODUCT' based on the XML structure\n",
    ")"
   ]
  },
  {
   "cell_type": "code",
   "execution_count": null,
   "metadata": {
    "application/vnd.databricks.v1+cell": {
     "cellMetadata": {
      "byteLimit": 2048000,
      "rowLimit": 10000
     },
     "inputWidgets": {},
     "nuid": "3172b2fd-6af4-4f24-beb6-8e48d744d911",
     "showTitle": false,
     "tableResultSettingsMap": {},
     "title": ""
    }
   },
   "outputs": [
    {
     "data": {
      "text/html": [
       "<style scoped>\n",
       "  .table-result-container {\n",
       "    max-height: 300px;\n",
       "    overflow: auto;\n",
       "  }\n",
       "  table, th, td {\n",
       "    border: 1px solid black;\n",
       "    border-collapse: collapse;\n",
       "  }\n",
       "  th, td {\n",
       "    padding: 5px;\n",
       "  }\n",
       "  th {\n",
       "    text-align: left;\n",
       "  }\n",
       "</style><div class='table-result-container'><table class='table-result'><thead style='background-color: white'><tr><th>MIME_INFO</th><th>PRODUCT_DETAILS</th><th>PRODUCT_FEATURES</th><th>PRODUCT_ORDER_DETAILS</th><th>PRODUCT_PRICE_DETAILS</th><th>SUPPLIER_PID</th><th>USER_DEFINED_EXTENSIONS</th><th>_mode</th></tr></thead><tbody><tr><td>List(List(List(List(Hersteller-Logo, deu), List(Hersteller-Logo, deu), logo, List(panel_logo.gif, deu), image/gif), List(List(Bedienungsanleitung, deu), List(Bedienungsanleitung, deu), data_sheet, List(bedienungsanleitung_11010.pdf, deu), application/pdf), List(null, null, normal, List(11070_normal.jpg, deu), image/jpeg)))</td><td>List(DEMO, List(DEMO 1 (deu, de) FOR PRODUCT MANAGEMENT DEMONSTRATION PURPOSES ✓, deu), List(List(DEMO 1 (deu, de), deu, de), List(DEMO 1 (eng, en), eng, en)), List(1, gtin), tequip, DEMO_MPID, DEMO_APID)</td><td>List(List(null, 1.0E9, null, udf_NMCATEGORIES-1.0), List(List(List(List(tec_detail_1, deu), DEMO UNIT, List(42_1, deu)), List(List(tec_detail_2, deu), DEMO UNIT, List(42_2, deu)), List(List(tec_detail_3, deu), DEMO UNIT, List(42_3, deu))), null, List(List(Technische Daten, deu), List(Technical Data, eng), List(Datos tecnicos, spa)), udf_NMTECHNICALDETAILS-1.0))</td><td>List(C62, 1, 1)</td><td>List(List(0.01, EUR, List(standard_rate), net_list))</td><td>DEMO</td><td>List(true, false)</td><td>new</td></tr><tr><td>List(List(List(List(Hersteller-Logo, deu), List(Hersteller-Logo, deu), logo, List(panel_logo.gif, deu), image/gif), List(List(Bedienungsanleitung, deu), List(Bedienungsanleitung, deu), data_sheet, List(bedienungsanleitung_11010.pdf, deu), application/pdf), List(null, null, normal, List(11070_normal.jpg, deu), image/jpeg)))</td><td>List(null, List(DEMO 9999911111 (deu, de) FOR PRODUCT MANAGEMENT DEMONSTRATION PURPOSES, deu), List(List(DEMO 9999911111 (deu, de), deu, de), List(DEMO 9999911111 (eng, en), eng, en)), List(2, gtin), tequip, 9999933333, 9999922222)</td><td>List(List(null, 1.0E9, null, udf_NMCATEGORIES-1.0), List(List(List(List(tec_detail_1, deu), DEMO UNIT, List(42_1, deu)), List(List(tec_detail_2, deu), DEMO UNIT, List(42_2, deu)), List(List(tec_detail_3, deu), DEMO UNIT, List(42_3, deu))), null, List(List(Technische Daten, deu), List(Technical Data, eng), List(Datos tecnicos, spa)), udf_NMTECHNICALDETAILS-1.0))</td><td>List(C62, 1, 1)</td><td>List(List(0.01, EUR, List(standard_rate), net_list))</td><td>9999911111</td><td>List(true, true)</td><td>new</td></tr></tbody></table></div>"
      ]
     },
     "metadata": {
      "application/vnd.databricks.v1+output": {
       "addedWidgets": {},
       "aggData": [],
       "aggError": "",
       "aggOverflow": false,
       "aggSchema": [],
       "aggSeriesLimitReached": false,
       "aggType": "",
       "arguments": {},
       "columnCustomDisplayInfos": {},
       "data": [
        [
         [
          [
           [
            [
             "Hersteller-Logo",
             "deu"
            ],
            [
             "Hersteller-Logo",
             "deu"
            ],
            "logo",
            [
             "panel_logo.gif",
             "deu"
            ],
            "image/gif"
           ],
           [
            [
             "Bedienungsanleitung",
             "deu"
            ],
            [
             "Bedienungsanleitung",
             "deu"
            ],
            "data_sheet",
            [
             "bedienungsanleitung_11010.pdf",
             "deu"
            ],
            "application/pdf"
           ],
           [
            null,
            null,
            "normal",
            [
             "11070_normal.jpg",
             "deu"
            ],
            "image/jpeg"
           ]
          ]
         ],
         [
          "DEMO",
          [
           "DEMO 1 (deu, de) FOR PRODUCT MANAGEMENT DEMONSTRATION PURPOSES ✓",
           "deu"
          ],
          [
           [
            "DEMO 1 (deu, de)",
            "deu",
            "de"
           ],
           [
            "DEMO 1 (eng, en)",
            "eng",
            "en"
           ]
          ],
          [
           1,
           "gtin"
          ],
          "tequip",
          "DEMO_MPID",
          "DEMO_APID"
         ],
         [
          [
           null,
           1000000000,
           null,
           "udf_NMCATEGORIES-1.0"
          ],
          [
           [
            [
             [
              "tec_detail_1",
              "deu"
             ],
             "DEMO UNIT",
             [
              "42_1",
              "deu"
             ]
            ],
            [
             [
              "tec_detail_2",
              "deu"
             ],
             "DEMO UNIT",
             [
              "42_2",
              "deu"
             ]
            ],
            [
             [
              "tec_detail_3",
              "deu"
             ],
             "DEMO UNIT",
             [
              "42_3",
              "deu"
             ]
            ]
           ],
           null,
           [
            [
             "Technische Daten",
             "deu"
            ],
            [
             "Technical Data",
             "eng"
            ],
            [
             "Datos tecnicos",
             "spa"
            ]
           ],
           "udf_NMTECHNICALDETAILS-1.0"
          ]
         ],
         [
          "C62",
          1,
          1
         ],
         [
          [
           0.01,
           "EUR",
           [
            "standard_rate"
           ],
           "net_list"
          ]
         ],
         "DEMO",
         [
          true,
          false
         ],
         "new"
        ],
        [
         [
          [
           [
            [
             "Hersteller-Logo",
             "deu"
            ],
            [
             "Hersteller-Logo",
             "deu"
            ],
            "logo",
            [
             "panel_logo.gif",
             "deu"
            ],
            "image/gif"
           ],
           [
            [
             "Bedienungsanleitung",
             "deu"
            ],
            [
             "Bedienungsanleitung",
             "deu"
            ],
            "data_sheet",
            [
             "bedienungsanleitung_11010.pdf",
             "deu"
            ],
            "application/pdf"
           ],
           [
            null,
            null,
            "normal",
            [
             "11070_normal.jpg",
             "deu"
            ],
            "image/jpeg"
           ]
          ]
         ],
         [
          null,
          [
           "DEMO 9999911111 (deu, de) FOR PRODUCT MANAGEMENT DEMONSTRATION PURPOSES",
           "deu"
          ],
          [
           [
            "DEMO 9999911111 (deu, de)",
            "deu",
            "de"
           ],
           [
            "DEMO 9999911111 (eng, en)",
            "eng",
            "en"
           ]
          ],
          [
           2,
           "gtin"
          ],
          "tequip",
          "9999933333",
          "9999922222"
         ],
         [
          [
           null,
           1000000000,
           null,
           "udf_NMCATEGORIES-1.0"
          ],
          [
           [
            [
             [
              "tec_detail_1",
              "deu"
             ],
             "DEMO UNIT",
             [
              "42_1",
              "deu"
             ]
            ],
            [
             [
              "tec_detail_2",
              "deu"
             ],
             "DEMO UNIT",
             [
              "42_2",
              "deu"
             ]
            ],
            [
             [
              "tec_detail_3",
              "deu"
             ],
             "DEMO UNIT",
             [
              "42_3",
              "deu"
             ]
            ]
           ],
           null,
           [
            [
             "Technische Daten",
             "deu"
            ],
            [
             "Technical Data",
             "eng"
            ],
            [
             "Datos tecnicos",
             "spa"
            ]
           ],
           "udf_NMTECHNICALDETAILS-1.0"
          ]
         ],
         [
          "C62",
          1,
          1
         ],
         [
          [
           0.01,
           "EUR",
           [
            "standard_rate"
           ],
           "net_list"
          ]
         ],
         "9999911111",
         [
          true,
          true
         ],
         "new"
        ]
       ],
       "datasetInfos": [],
       "dbfsResultPath": null,
       "isJsonSchema": true,
       "metadata": {},
       "overflow": false,
       "plotOptions": {
        "customPlotOptions": {},
        "displayType": "table",
        "pivotAggregation": null,
        "pivotColumns": null,
        "xColumns": null,
        "yColumns": null
       },
       "removedWidgets": [],
       "schema": [
        {
         "metadata": "{}",
         "name": "MIME_INFO",
         "type": "{\"type\":\"struct\",\"fields\":[{\"name\":\"MIME\",\"type\":{\"type\":\"array\",\"elementType\":{\"type\":\"struct\",\"fields\":[{\"name\":\"MIME_ALT\",\"type\":{\"type\":\"struct\",\"fields\":[{\"name\":\"_VALUE\",\"type\":\"string\",\"nullable\":true,\"metadata\":{}},{\"name\":\"_lang\",\"type\":\"string\",\"nullable\":true,\"metadata\":{}}]},\"nullable\":true,\"metadata\":{}},{\"name\":\"MIME_DESCR\",\"type\":{\"type\":\"struct\",\"fields\":[{\"name\":\"_VALUE\",\"type\":\"string\",\"nullable\":true,\"metadata\":{}},{\"name\":\"_lang\",\"type\":\"string\",\"nullable\":true,\"metadata\":{}}]},\"nullable\":true,\"metadata\":{}},{\"name\":\"MIME_PURPOSE\",\"type\":\"string\",\"nullable\":true,\"metadata\":{}},{\"name\":\"MIME_SOURCE\",\"type\":{\"type\":\"struct\",\"fields\":[{\"name\":\"_VALUE\",\"type\":\"string\",\"nullable\":true,\"metadata\":{}},{\"name\":\"_lang\",\"type\":\"string\",\"nullable\":true,\"metadata\":{}}]},\"nullable\":true,\"metadata\":{}},{\"name\":\"MIME_TYPE\",\"type\":\"string\",\"nullable\":true,\"metadata\":{}}]},\"containsNull\":true},\"nullable\":true,\"metadata\":{}}]}"
        },
        {
         "metadata": "{}",
         "name": "PRODUCT_DETAILS",
         "type": "{\"type\":\"struct\",\"fields\":[{\"name\":\"BUYER_PID\",\"type\":\"string\",\"nullable\":true,\"metadata\":{}},{\"name\":\"DESCRIPTION_LONG\",\"type\":{\"type\":\"struct\",\"fields\":[{\"name\":\"_VALUE\",\"type\":\"string\",\"nullable\":true,\"metadata\":{}},{\"name\":\"_lang\",\"type\":\"string\",\"nullable\":true,\"metadata\":{}}]},\"nullable\":true,\"metadata\":{}},{\"name\":\"DESCRIPTION_SHORT\",\"type\":{\"type\":\"array\",\"elementType\":{\"type\":\"struct\",\"fields\":[{\"name\":\"_VALUE\",\"type\":\"string\",\"nullable\":true,\"metadata\":{}},{\"name\":\"_lang\",\"type\":\"string\",\"nullable\":true,\"metadata\":{}},{\"name\":\"_locale\",\"type\":\"string\",\"nullable\":true,\"metadata\":{}}]},\"containsNull\":true},\"nullable\":true,\"metadata\":{}},{\"name\":\"INTERNATIONAL_PID\",\"type\":{\"type\":\"struct\",\"fields\":[{\"name\":\"_VALUE\",\"type\":\"long\",\"nullable\":true,\"metadata\":{}},{\"name\":\"_type\",\"type\":\"string\",\"nullable\":true,\"metadata\":{}}]},\"nullable\":true,\"metadata\":{}},{\"name\":\"MANUFACTURER_NAME\",\"type\":\"string\",\"nullable\":true,\"metadata\":{}},{\"name\":\"MANUFACTURER_PID\",\"type\":\"string\",\"nullable\":true,\"metadata\":{}},{\"name\":\"SUPPLIER_ALT_PID\",\"type\":\"string\",\"nullable\":true,\"metadata\":{}}]}"
        },
        {
         "metadata": "{}",
         "name": "PRODUCT_FEATURES",
         "type": "{\"type\":\"array\",\"elementType\":{\"type\":\"struct\",\"fields\":[{\"name\":\"FEATURE\",\"type\":{\"type\":\"array\",\"elementType\":{\"type\":\"struct\",\"fields\":[{\"name\":\"FNAME\",\"type\":{\"type\":\"struct\",\"fields\":[{\"name\":\"_VALUE\",\"type\":\"string\",\"nullable\":true,\"metadata\":{}},{\"name\":\"_lang\",\"type\":\"string\",\"nullable\":true,\"metadata\":{}}]},\"nullable\":true,\"metadata\":{}},{\"name\":\"FUNIT\",\"type\":\"string\",\"nullable\":true,\"metadata\":{}},{\"name\":\"FVALUE\",\"type\":{\"type\":\"struct\",\"fields\":[{\"name\":\"_VALUE\",\"type\":\"string\",\"nullable\":true,\"metadata\":{}},{\"name\":\"_lang\",\"type\":\"string\",\"nullable\":true,\"metadata\":{}}]},\"nullable\":true,\"metadata\":{}}]},\"containsNull\":true},\"nullable\":true,\"metadata\":{}},{\"name\":\"REFERENCE_FEATURE_GROUP_ID\",\"type\":\"double\",\"nullable\":true,\"metadata\":{}},{\"name\":\"REFERENCE_FEATURE_GROUP_NAME\",\"type\":{\"type\":\"array\",\"elementType\":{\"type\":\"struct\",\"fields\":[{\"name\":\"_VALUE\",\"type\":\"string\",\"nullable\":true,\"metadata\":{}},{\"name\":\"_lang\",\"type\":\"string\",\"nullable\":true,\"metadata\":{}}]},\"containsNull\":true},\"nullable\":true,\"metadata\":{}},{\"name\":\"REFERENCE_FEATURE_SYSTEM_NAME\",\"type\":\"string\",\"nullable\":true,\"metadata\":{}}]},\"containsNull\":true}"
        },
        {
         "metadata": "{}",
         "name": "PRODUCT_ORDER_DETAILS",
         "type": "{\"type\":\"struct\",\"fields\":[{\"name\":\"ORDER_UNIT\",\"type\":\"string\",\"nullable\":true,\"metadata\":{}},{\"name\":\"QUANTITY_INTERVAL\",\"type\":\"long\",\"nullable\":true,\"metadata\":{}},{\"name\":\"QUANTITY_MIN\",\"type\":\"long\",\"nullable\":true,\"metadata\":{}}]}"
        },
        {
         "metadata": "{}",
         "name": "PRODUCT_PRICE_DETAILS",
         "type": "{\"type\":\"struct\",\"fields\":[{\"name\":\"PRODUCT_PRICE\",\"type\":{\"type\":\"struct\",\"fields\":[{\"name\":\"PRICE_AMOUNT\",\"type\":\"double\",\"nullable\":true,\"metadata\":{}},{\"name\":\"PRICE_CURRENCY\",\"type\":\"string\",\"nullable\":true,\"metadata\":{}},{\"name\":\"TAX_DETAILS\",\"type\":{\"type\":\"struct\",\"fields\":[{\"name\":\"TAX_CATEGORY\",\"type\":\"string\",\"nullable\":true,\"metadata\":{}}]},\"nullable\":true,\"metadata\":{}},{\"name\":\"_price_type\",\"type\":\"string\",\"nullable\":true,\"metadata\":{}}]},\"nullable\":true,\"metadata\":{}}]}"
        },
        {
         "metadata": "{}",
         "name": "SUPPLIER_PID",
         "type": "\"string\""
        },
        {
         "metadata": "{}",
         "name": "USER_DEFINED_EXTENSIONS",
         "type": "{\"type\":\"struct\",\"fields\":[{\"name\":\"UDX.NM.AVAILABLE_FLAG\",\"type\":\"boolean\",\"nullable\":true,\"metadata\":{}},{\"name\":\"UDX.NM.OFFLINE\",\"type\":\"boolean\",\"nullable\":true,\"metadata\":{}}]}"
        },
        {
         "metadata": "{}",
         "name": "_mode",
         "type": "\"string\""
        }
       ],
       "type": "table"
      }
     },
     "output_type": "display_data"
    }
   ],
   "source": [
    "print(\"=== Inspecting Catalog Dataset ===\")\n",
    "catalog_df.printSchema()\n",
    "display(catalog_df.limit(10).toPandas())  # Display as table-like format"
   ]
  },
  {
   "cell_type": "code",
   "execution_count": null,
   "metadata": {
    "application/vnd.databricks.v1+cell": {
     "cellMetadata": {
      "byteLimit": 2048000,
      "rowLimit": 10000
     },
     "inputWidgets": {},
     "nuid": "39299d61-0027-4858-9336-e19d804688e2",
     "showTitle": false,
     "tableResultSettingsMap": {},
     "title": ""
    }
   },
   "outputs": [],
   "source": [
    "# Customer data (CSV format)\n",
    "customer_df = inspect_dataset(\n",
    "    name=\"Customer\",\n",
    "    path=paths[\"customer\"],\n",
    "    format_type=\"csv\",\n",
    "    options={\"header\": True, \"delimiter\": \";\"}  # Added delimiter for semicolon-separated values\n",
    ")\n"
   ]
  },
  {
   "cell_type": "code",
   "execution_count": null,
   "metadata": {
    "application/vnd.databricks.v1+cell": {
     "cellMetadata": {
      "byteLimit": 2048000,
      "rowLimit": 10000
     },
     "inputWidgets": {},
     "nuid": "bb51cf70-1a2f-4198-8cf4-f7b4e734cf8a",
     "showTitle": false,
     "tableResultSettingsMap": {},
     "title": ""
    }
   },
   "outputs": [
    {
     "name": "stdout",
     "output_type": "stream",
     "text": [
      "\n",
      "--- Processing Order Files ---\n",
      "Files in the Order folder:\n",
      "- example-order-1.edi (size: 252 bytes, modification time: 1733905923000)\n",
      "- example-order-2.edi (size: 261 bytes, modification time: 1733905923000)\n",
      "- example-order-3.edi (size: 293 bytes, modification time: 1733905923000)\n",
      "- example-order-4.edi (size: 249 bytes, modification time: 1733905923000)\n",
      "\n",
      "=== Inspecting Order Dataset ===\n",
      "root\n",
      " |-- value: string (nullable = true)\n",
      "\n",
      "+----------------------------------------------------------------------------------------------------------------------------------------------------------+\n",
      "|value                                                                                                                                                     |\n",
      "+----------------------------------------------------------------------------------------------------------------------------------------------------------+\n",
      "|HDR;ORD;2.0;NOID;tequip;KDNR000001;Test.User;999999;;;2024-09-06T12:05;NORML;;;;;;;;test.user@nexmart.com;;false;test.user@nexmart.com;765412345;         |\n",
      "|ADR;SND;;;;;;;;                                                                                                                                           |\n",
      "|POS;0;5;;DEMO;90001;;2.0;;;;;;                                                                                                                            |\n",
      "|POS;0;5;;9999911111;9999911111;;50.0;;;;;;                                                                                                                |\n",
      "|QNT;SETU;PCE;                                                                                                                                             |\n",
      "|PRI;PCE;0.01;EUR;                                                                                                                                         |\n",
      "|PRI;SUM;0.52;EUR;                                                                                                                                         |\n",
      "|HDR;ORD;2.0;NOID;tequip;KDNR000001;Data.Example;999999;;;2024-09-06T12:05;NORML;;;;;;;;Data.Example@nexmart.com;;false;Data.Example@nexmart.com;765412345;|\n",
      "|ADR;SND;;;;;;;;                                                                                                                                           |\n",
      "|POS;0;5;;90001;90001;;14.0;;;;;;                                                                                                                          |\n",
      "|QNT;SETU;PCE;                                                                                                                                             |\n",
      "|PRI;PCE;1.11;EUR;                                                                                                                                         |\n",
      "|PRI;SUM;15.54;EUR;                                                                                                                                        |\n",
      "|HDR;ORD;2.0;NOID;tequip;KDNR000001;Test.User;999999;;;2024-09-06T12:05;NORML;;;;;;;;test.user@nexmart.com;;false;test.user@nexmart.com;765412345;         |\n",
      "|ADR;SND;;;;;;;;                                                                                                                                           |\n",
      "|POS;0;5;;90001;90001;;10.0;;;;;;                                                                                                                          |\n",
      "|QNT;SETU;PCE;                                                                                                                                             |\n",
      "|PRI;PCE;1.11;EUR;                                                                                                                                         |\n",
      "|PRI;SUM;11.10;EUR;                                                                                                                                        |\n",
      "|HDR;ORD;2.0;NOID;tequip;KDNR000001;Test.User;999999;;;2024-09-06T12:05;NORML;;;;;;;;test.user@nexmart.com;;false;test.user@nexmart.com;765412345;         |\n",
      "+----------------------------------------------------------------------------------------------------------------------------------------------------------+\n",
      "only showing top 20 rows\n",
      "\n"
     ]
    }
   ],
   "source": [
    "# Step 1: Log the files being processed\n",
    "print(\"\\n--- Processing Order Files ---\")\n",
    "order_files = dbutils.fs.ls(paths[\"order\"])  # List all files in the folder\n",
    "\n",
    "# Log all file names\n",
    "print(\"Files in the Order folder:\")\n",
    "for file_info in order_files:\n",
    "    print(f\"- {file_info.name} (size: {file_info.size} bytes, modification time: {file_info.modificationTime})\")\n",
    "\n",
    "# Step 2: Read the Order dataset (combines all files in the folder)\n",
    "# Order data (EDI format - read as plain text)\n",
    "order_df = inspect_dataset(\n",
    "    name=\"Order\",\n",
    "    path=paths[\"order\"],\n",
    "    format_type=\"text\"\n",
    ")"
   ]
  },
  {
   "cell_type": "code",
   "execution_count": null,
   "metadata": {
    "application/vnd.databricks.v1+cell": {
     "cellMetadata": {},
     "inputWidgets": {},
     "nuid": "104728f8-e665-483f-b354-7c3a8882a033",
     "showTitle": false,
     "tableResultSettingsMap": {},
     "title": ""
    }
   },
   "outputs": [],
   "source": [
    "display(catalog_df.limit(10).toPandas())  # Display as table-like format"
   ]
  },
  {
   "cell_type": "code",
   "execution_count": null,
   "metadata": {
    "application/vnd.databricks.v1+cell": {
     "cellMetadata": {
      "byteLimit": 2048000,
      "rowLimit": 10000
     },
     "inputWidgets": {},
     "nuid": "cf3411e0-0783-4848-9202-be75513d5d64",
     "showTitle": false,
     "tableResultSettingsMap": {},
     "title": ""
    }
   },
   "outputs": [
    {
     "name": "stdout",
     "output_type": "stream",
     "text": [
      "\n",
      "=== Inspecting Price Dataset ===\n",
      "root\n",
      " |-- manufacturer: string (nullable = true)\n",
      " |-- manufacturer_pid: string (nullable = true)\n",
      " |-- retailer_pid: string (nullable = true)\n",
      " |-- order_unit: string (nullable = true)\n",
      " |-- price: string (nullable = true)\n",
      " |-- price_base: string (nullable = true)\n",
      " |-- currency: string (nullable = true)\n",
      " |-- tax_class: string (nullable = true)\n",
      " |-- saleable: string (nullable = true)\n",
      "\n",
      "+------------+----------------+------------+----------+-----+----------+--------+---------+--------+\n",
      "|manufacturer|manufacturer_pid|retailer_pid|order_unit|price|price_base|currency|tax_class|saleable|\n",
      "+------------+----------------+------------+----------+-----+----------+--------+---------+--------+\n",
      "|tequip      |11060           |11060       |C62       |579  |1         |EUR     |1        |1       |\n",
      "|tequip      |DEMO            |DEMO        |C62       |99.99|1         |EUR     |1        |1       |\n",
      "|tequip      |9999911111      |9999911111  |C62       |0.02 |1         |EUR     |1        |1       |\n",
      "+------------+----------------+------------+----------+-----+----------+--------+---------+--------+\n",
      "\n"
     ]
    }
   ],
   "source": [
    "# Price data (CSV format)\n",
    "price_df = inspect_dataset(\n",
    "    name=\"Price\",\n",
    "    path=paths[\"price_stock\"] + \"/PRICE-RET0001-202410151405.csv\",  # Specific price file\n",
    "    format_type=\"csv\",\n",
    "    options={\"header\": True, \"delimiter\": \";\", \"quote\": '\"'}  # Added delimiter for semicolon-separated values\n",
    "\n",
    ")"
   ]
  },
  {
   "cell_type": "code",
   "execution_count": null,
   "metadata": {
    "application/vnd.databricks.v1+cell": {
     "cellMetadata": {
      "byteLimit": 2048000,
      "rowLimit": 10000
     },
     "inputWidgets": {},
     "nuid": "9348b60f-88cc-43f7-96dd-8f796dfa3c21",
     "showTitle": false,
     "tableResultSettingsMap": {},
     "title": ""
    }
   },
   "outputs": [
    {
     "data": {
      "text/html": [
       "<style scoped>\n",
       "  .table-result-container {\n",
       "    max-height: 300px;\n",
       "    overflow: auto;\n",
       "  }\n",
       "  table, th, td {\n",
       "    border: 1px solid black;\n",
       "    border-collapse: collapse;\n",
       "  }\n",
       "  th, td {\n",
       "    padding: 5px;\n",
       "  }\n",
       "  th {\n",
       "    text-align: left;\n",
       "  }\n",
       "</style><div class='table-result-container'><table class='table-result'><thead style='background-color: white'><tr><th>manufacturer</th><th>manufacturer_pid</th><th>retailer_pid</th><th>order_unit</th><th>price</th><th>price_base</th><th>currency</th><th>tax_class</th><th>saleable</th></tr></thead><tbody><tr><td>tequip</td><td>11060</td><td>11060</td><td>C62</td><td>579</td><td>1</td><td>EUR</td><td>1</td><td>1</td></tr><tr><td>tequip</td><td>DEMO</td><td>DEMO</td><td>C62</td><td>99.99</td><td>1</td><td>EUR</td><td>1</td><td>1</td></tr><tr><td>tequip</td><td>9999911111</td><td>9999911111</td><td>C62</td><td>0.02</td><td>1</td><td>EUR</td><td>1</td><td>1</td></tr></tbody></table></div>"
      ]
     },
     "metadata": {
      "application/vnd.databricks.v1+output": {
       "addedWidgets": {},
       "aggData": [],
       "aggError": "",
       "aggOverflow": false,
       "aggSchema": [],
       "aggSeriesLimitReached": false,
       "aggType": "",
       "arguments": {},
       "columnCustomDisplayInfos": {},
       "data": [
        [
         "tequip",
         "11060",
         "11060",
         "C62",
         "579",
         "1",
         "EUR",
         "1",
         "1"
        ],
        [
         "tequip",
         "DEMO",
         "DEMO",
         "C62",
         "99.99",
         "1",
         "EUR",
         "1",
         "1"
        ],
        [
         "tequip",
         "9999911111",
         "9999911111",
         "C62",
         "0.02",
         "1",
         "EUR",
         "1",
         "1"
        ]
       ],
       "datasetInfos": [],
       "dbfsResultPath": null,
       "isJsonSchema": true,
       "metadata": {},
       "overflow": false,
       "plotOptions": {
        "customPlotOptions": {},
        "displayType": "table",
        "pivotAggregation": null,
        "pivotColumns": null,
        "xColumns": null,
        "yColumns": null
       },
       "removedWidgets": [],
       "schema": [
        {
         "metadata": "{}",
         "name": "manufacturer",
         "type": "\"string\""
        },
        {
         "metadata": "{}",
         "name": "manufacturer_pid",
         "type": "\"string\""
        },
        {
         "metadata": "{}",
         "name": "retailer_pid",
         "type": "\"string\""
        },
        {
         "metadata": "{}",
         "name": "order_unit",
         "type": "\"string\""
        },
        {
         "metadata": "{}",
         "name": "price",
         "type": "\"string\""
        },
        {
         "metadata": "{}",
         "name": "price_base",
         "type": "\"string\""
        },
        {
         "metadata": "{}",
         "name": "currency",
         "type": "\"string\""
        },
        {
         "metadata": "{}",
         "name": "tax_class",
         "type": "\"string\""
        },
        {
         "metadata": "{}",
         "name": "saleable",
         "type": "\"string\""
        }
       ],
       "type": "table"
      }
     },
     "output_type": "display_data"
    }
   ],
   "source": [
    "display(price_df.limit(10).toPandas())  # Display as table-like format"
   ]
  },
  {
   "cell_type": "code",
   "execution_count": null,
   "metadata": {
    "application/vnd.databricks.v1+cell": {
     "cellMetadata": {
      "byteLimit": 2048000,
      "rowLimit": 10000
     },
     "inputWidgets": {},
     "nuid": "23b51d10-c7f9-41f2-9a4b-cbe062c392fe",
     "showTitle": false,
     "tableResultSettingsMap": {},
     "title": ""
    }
   },
   "outputs": [
    {
     "name": "stdout",
     "output_type": "stream",
     "text": [
      "\n",
      "=== Inspecting Stock Dataset ===\n",
      "root\n",
      " |-- manufacturer: string (nullable = true)\n",
      " |-- manufacturer_pid: string (nullable = true)\n",
      " |-- retailer_pid: string (nullable = true)\n",
      " |-- order_unit: string (nullable = true)\n",
      " |-- quantity: string (nullable = true)\n",
      " |--  replenishment_time: string (nullable = true)\n",
      " |-- deeplink: string (nullable = true)\n",
      "\n",
      "+------------+----------------+------------+----------+--------+-------------------+----------------------------------+\n",
      "|manufacturer|manufacturer_pid|retailer_pid|order_unit|quantity| replenishment_time|deeplink                          |\n",
      "+------------+----------------+------------+----------+--------+-------------------+----------------------------------+\n",
      "|tequip_de   |11060           |11060       |C62       |99      |3                  |https://www.test.tequip/11060     |\n",
      "|tequip_de   |DEMO            |DEMO        |C62       |0       |3                  |https://www.test.tequip/DEMO      |\n",
      "|tequip_de   |9999911111      |9999911111  |C62       |15      |3                  |https://www.test.tequip/9999911111|\n",
      "+------------+----------------+------------+----------+--------+-------------------+----------------------------------+\n",
      "\n",
      "\n",
      "--- Inspection Completed ---\n"
     ]
    }
   ],
   "source": [
    "# Stock data (CSV format)\n",
    "stock_df = inspect_dataset(\n",
    "    name=\"Stock\",\n",
    "    path=paths[\"price_stock\"] + \"/STOCK-RET0001-202410151330.csv\",  # Specific stock file\n",
    "    format_type=\"csv\",\n",
    "    #options={\"header\": True}  # Read as CSV with header\n",
    "    options={\"header\": True, \"delimiter\": \";\", \"quote\": '\"'}  # Added delimiter for semicolon-separated values\n",
    "\n",
    ")\n",
    "\n",
    "print(\"\\n--- Inspection Completed ---\")\n"
   ]
  },
  {
   "cell_type": "code",
   "execution_count": null,
   "metadata": {
    "application/vnd.databricks.v1+cell": {
     "cellMetadata": {
      "byteLimit": 2048000,
      "rowLimit": 10000
     },
     "inputWidgets": {},
     "nuid": "12ebee3b-4126-4722-8e64-4aa3a7d601dc",
     "showTitle": false,
     "tableResultSettingsMap": {},
     "title": ""
    }
   },
   "outputs": [
    {
     "data": {
      "text/html": [
       "<style scoped>\n",
       "  .table-result-container {\n",
       "    max-height: 300px;\n",
       "    overflow: auto;\n",
       "  }\n",
       "  table, th, td {\n",
       "    border: 1px solid black;\n",
       "    border-collapse: collapse;\n",
       "  }\n",
       "  th, td {\n",
       "    padding: 5px;\n",
       "  }\n",
       "  th {\n",
       "    text-align: left;\n",
       "  }\n",
       "</style><div class='table-result-container'><table class='table-result'><thead style='background-color: white'><tr><th>manufacturer</th><th>manufacturer_pid</th><th>retailer_pid</th><th>order_unit</th><th>quantity</th><th> replenishment_time</th><th>deeplink</th></tr></thead><tbody><tr><td>tequip_de</td><td>11060</td><td>11060</td><td>C62</td><td>99</td><td>3</td><td>https://www.test.tequip/11060</td></tr><tr><td>tequip_de</td><td>DEMO</td><td>DEMO</td><td>C62</td><td>0</td><td>3</td><td>https://www.test.tequip/DEMO</td></tr><tr><td>tequip_de</td><td>9999911111</td><td>9999911111</td><td>C62</td><td>15</td><td>3</td><td>https://www.test.tequip/9999911111</td></tr></tbody></table></div>"
      ]
     },
     "metadata": {
      "application/vnd.databricks.v1+output": {
       "addedWidgets": {},
       "aggData": [],
       "aggError": "",
       "aggOverflow": false,
       "aggSchema": [],
       "aggSeriesLimitReached": false,
       "aggType": "",
       "arguments": {},
       "columnCustomDisplayInfos": {},
       "data": [
        [
         "tequip_de",
         "11060",
         "11060",
         "C62",
         "99",
         "3",
         "https://www.test.tequip/11060"
        ],
        [
         "tequip_de",
         "DEMO",
         "DEMO",
         "C62",
         "0",
         "3",
         "https://www.test.tequip/DEMO"
        ],
        [
         "tequip_de",
         "9999911111",
         "9999911111",
         "C62",
         "15",
         "3",
         "https://www.test.tequip/9999911111"
        ]
       ],
       "datasetInfos": [],
       "dbfsResultPath": null,
       "isJsonSchema": true,
       "metadata": {},
       "overflow": false,
       "plotOptions": {
        "customPlotOptions": {},
        "displayType": "table",
        "pivotAggregation": null,
        "pivotColumns": null,
        "xColumns": null,
        "yColumns": null
       },
       "removedWidgets": [],
       "schema": [
        {
         "metadata": "{}",
         "name": "manufacturer",
         "type": "\"string\""
        },
        {
         "metadata": "{}",
         "name": "manufacturer_pid",
         "type": "\"string\""
        },
        {
         "metadata": "{}",
         "name": "retailer_pid",
         "type": "\"string\""
        },
        {
         "metadata": "{}",
         "name": "order_unit",
         "type": "\"string\""
        },
        {
         "metadata": "{}",
         "name": "quantity",
         "type": "\"string\""
        },
        {
         "metadata": "{}",
         "name": " replenishment_time",
         "type": "\"string\""
        },
        {
         "metadata": "{}",
         "name": "deeplink",
         "type": "\"string\""
        }
       ],
       "type": "table"
      }
     },
     "output_type": "display_data"
    }
   ],
   "source": [
    "display(stock_df.limit(10).toPandas())  # Display as table-like format"
   ]
  }
 ],
 "metadata": {
  "application/vnd.databricks.v1+notebook": {
   "computePreferences": null,
   "dashboards": [],
   "environmentMetadata": {
    "base_environment": "",
    "client": "1"
   },
   "language": "python",
   "notebookMetadata": {
    "pythonIndentUnit": 4
   },
   "notebookName": "InspectRawData",
   "widgets": {}
  },
  "language_info": {
   "name": "python"
  }
 },
 "nbformat": 4,
 "nbformat_minor": 0
}
