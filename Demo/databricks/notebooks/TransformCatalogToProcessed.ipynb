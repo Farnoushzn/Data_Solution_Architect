{
 "cells": [
  {
   "cell_type": "code",
   "execution_count": null,
   "metadata": {
    "application/vnd.databricks.v1+cell": {
     "cellMetadata": {
      "byteLimit": 2048000,
      "rowLimit": 10000
     },
     "inputWidgets": {},
     "nuid": "c776ea5e-75ec-41e7-9234-0e01f71684bf",
     "showTitle": false,
     "tableResultSettingsMap": {},
     "title": ""
    }
   },
   "outputs": [],
   "source": [
    "# Import necessary libraries\n",
    "from pyspark.sql import SparkSession\n",
    "from pyspark.sql import DataFrame\n",
    "from pyspark.sql.functions import col, when, lit, split, concat, regexp_extract\n",
    "\n"
   ]
  },
  {
   "cell_type": "code",
   "execution_count": null,
   "metadata": {
    "application/vnd.databricks.v1+cell": {
     "cellMetadata": {
      "byteLimit": 2048000,
      "rowLimit": 10000
     },
     "inputWidgets": {},
     "nuid": "da489c0b-ce08-4c15-8c8a-2c62440df2eb",
     "showTitle": false,
     "tableResultSettingsMap": {},
     "title": ""
    }
   },
   "outputs": [],
   "source": [
    "# Initialize Spark session\n",
    "spark = SparkSession.builder.appName(\"InspectRawData\").getOrCreate()\n"
   ]
  },
  {
   "cell_type": "code",
   "execution_count": null,
   "metadata": {
    "application/vnd.databricks.v1+cell": {
     "cellMetadata": {
      "byteLimit": 2048000,
      "rowLimit": 10000
     },
     "inputWidgets": {},
     "nuid": "889dfb08-9339-48fa-a84e-77df1dd9f860",
     "showTitle": false,
     "tableResultSettingsMap": {},
     "title": ""
    }
   },
   "outputs": [],
   "source": [
    "# Azure Data Lake paths (replace placeholders with actual values)\n",
    "storage_account_name = \"datalakestoragetask\"  # Replace with your storage account name\n",
    "raw_container = \"raw\"\n",
    "processed_container = \"processed\"\n",
    "storage_key = \"\"  # Replace with your key or credential method\n",
    "\n",
    "# Configure Spark to access Azure Data Lake\n",
    "spark.conf.set(f\"fs.azure.account.key.{storage_account_name}.dfs.core.windows.net\", storage_key)\n",
    "\n",
    "# Define paths for each dataset\n",
    "paths = {\n",
    "    \"catalog_raw\": f\"abfss://{raw_container}@{storage_account_name}.dfs.core.windows.net/catalog\",\n",
    "    \"catalog_processed\": f\"abfss://{processed_container}@{storage_account_name}.dfs.core.windows.net/catalog/catalog.parquet\",\n",
    "\n",
    "}\n"
   ]
  },
  {
   "cell_type": "code",
   "execution_count": null,
   "metadata": {
    "application/vnd.databricks.v1+cell": {
     "cellMetadata": {
      "byteLimit": 2048000,
      "rowLimit": 10000
     },
     "inputWidgets": {},
     "nuid": "ff40d647-f66d-4352-83b6-4b4c6f9ccf2a",
     "showTitle": false,
     "tableResultSettingsMap": {},
     "title": ""
    }
   },
   "outputs": [
    {
     "name": "stdout",
     "output_type": "stream",
     "text": [
      "\n",
      "--- Starting Inspection ---\n",
      "\n"
     ]
    }
   ],
   "source": [
    "# Function to inspect a dataset\n",
    "def inspect_dataset(name, path, format_type, options={}):\n",
    "    print(f\"\\n=== Inspecting {name} Dataset ===\")\n",
    "    try:\n",
    "        # Load dataset based on format\n",
    "        df = spark.read.format(format_type).options(**options).load(path)\n",
    "        \n",
    "        # Show schema and a sample of the data\n",
    "        df.printSchema()\n",
    "        df.limit(30).show(truncate=False)\n",
    "        \n",
    "        # Return DataFrame for further analysis if needed\n",
    "        return df\n",
    "    except Exception as e:\n",
    "        print(f\"Error reading {name} data: {e}\")\n",
    "        return None\n",
    "\n",
    "# Inspect datasets one by one\n",
    "print(\"\\n--- Starting Inspection ---\\n\")\n",
    "\n"
   ]
  },
  {
   "cell_type": "code",
   "execution_count": null,
   "metadata": {
    "application/vnd.databricks.v1+cell": {
     "cellMetadata": {
      "byteLimit": 2048000,
      "rowLimit": 10000
     },
     "inputWidgets": {},
     "nuid": "035d9206-9c34-4b82-bc8a-22bd3b8ab37e",
     "showTitle": false,
     "tableResultSettingsMap": {},
     "title": ""
    }
   },
   "outputs": [
    {
     "name": "stdout",
     "output_type": "stream",
     "text": [
      "\n",
      "=== Inspecting Catalog Dataset ===\n",
      "root\n",
      " |-- MIME_INFO: struct (nullable = true)\n",
      " |    |-- MIME: array (nullable = true)\n",
      " |    |    |-- element: struct (containsNull = true)\n",
      " |    |    |    |-- MIME_ALT: struct (nullable = true)\n",
      " |    |    |    |    |-- _VALUE: string (nullable = true)\n",
      " |    |    |    |    |-- _lang: string (nullable = true)\n",
      " |    |    |    |-- MIME_DESCR: struct (nullable = true)\n",
      " |    |    |    |    |-- _VALUE: string (nullable = true)\n",
      " |    |    |    |    |-- _lang: string (nullable = true)\n",
      " |    |    |    |-- MIME_PURPOSE: string (nullable = true)\n",
      " |    |    |    |-- MIME_SOURCE: struct (nullable = true)\n",
      " |    |    |    |    |-- _VALUE: string (nullable = true)\n",
      " |    |    |    |    |-- _lang: string (nullable = true)\n",
      " |    |    |    |-- MIME_TYPE: string (nullable = true)\n",
      " |-- PRODUCT_DETAILS: struct (nullable = true)\n",
      " |    |-- BUYER_PID: string (nullable = true)\n",
      " |    |-- DESCRIPTION_LONG: struct (nullable = true)\n",
      " |    |    |-- _VALUE: string (nullable = true)\n",
      " |    |    |-- _lang: string (nullable = true)\n",
      " |    |-- DESCRIPTION_SHORT: array (nullable = true)\n",
      " |    |    |-- element: struct (containsNull = true)\n",
      " |    |    |    |-- _VALUE: string (nullable = true)\n",
      " |    |    |    |-- _lang: string (nullable = true)\n",
      " |    |    |    |-- _locale: string (nullable = true)\n",
      " |    |-- INTERNATIONAL_PID: struct (nullable = true)\n",
      " |    |    |-- _VALUE: long (nullable = true)\n",
      " |    |    |-- _type: string (nullable = true)\n",
      " |    |-- MANUFACTURER_NAME: string (nullable = true)\n",
      " |    |-- MANUFACTURER_PID: string (nullable = true)\n",
      " |    |-- SUPPLIER_ALT_PID: string (nullable = true)\n",
      " |-- PRODUCT_FEATURES: array (nullable = true)\n",
      " |    |-- element: struct (containsNull = true)\n",
      " |    |    |-- FEATURE: array (nullable = true)\n",
      " |    |    |    |-- element: struct (containsNull = true)\n",
      " |    |    |    |    |-- FNAME: struct (nullable = true)\n",
      " |    |    |    |    |    |-- _VALUE: string (nullable = true)\n",
      " |    |    |    |    |    |-- _lang: string (nullable = true)\n",
      " |    |    |    |    |-- FUNIT: string (nullable = true)\n",
      " |    |    |    |    |-- FVALUE: struct (nullable = true)\n",
      " |    |    |    |    |    |-- _VALUE: string (nullable = true)\n",
      " |    |    |    |    |    |-- _lang: string (nullable = true)\n",
      " |    |    |-- REFERENCE_FEATURE_GROUP_ID: long (nullable = true)\n",
      " |    |    |-- REFERENCE_FEATURE_GROUP_NAME: array (nullable = true)\n",
      " |    |    |    |-- element: struct (containsNull = true)\n",
      " |    |    |    |    |-- _VALUE: string (nullable = true)\n",
      " |    |    |    |    |-- _lang: string (nullable = true)\n",
      " |    |    |-- REFERENCE_FEATURE_SYSTEM_NAME: string (nullable = true)\n",
      " |-- PRODUCT_ORDER_DETAILS: struct (nullable = true)\n",
      " |    |-- ORDER_UNIT: string (nullable = true)\n",
      " |    |-- QUANTITY_INTERVAL: long (nullable = true)\n",
      " |    |-- QUANTITY_MIN: long (nullable = true)\n",
      " |-- PRODUCT_PRICE_DETAILS: struct (nullable = true)\n",
      " |    |-- PRODUCT_PRICE: struct (nullable = true)\n",
      " |    |    |-- PRICE_AMOUNT: double (nullable = true)\n",
      " |    |    |-- PRICE_CURRENCY: string (nullable = true)\n",
      " |    |    |-- TAX_DETAILS: struct (nullable = true)\n",
      " |    |    |    |-- TAX_CATEGORY: string (nullable = true)\n",
      " |    |    |-- _price_type: string (nullable = true)\n",
      " |-- SUPPLIER_PID: string (nullable = true)\n",
      " |-- USER_DEFINED_EXTENSIONS: struct (nullable = true)\n",
      " |    |-- UDX.NM.AVAILABLE_FLAG: boolean (nullable = true)\n",
      " |    |-- UDX.NM.OFFLINE: boolean (nullable = true)\n",
      " |-- _mode: string (nullable = true)\n",
      "\n",
      "+------------------------------------------------------------------------------------------------------------------------------------------------------------------------------------------------------------------------------------------------------------------------------------+---------------------------------------------------------------------------------------------------------------------------------------------------------------------------------------------------------------+------------------------------------------------------------------------------------------------------------------------------------------------------------------------------------------------------------------------------------------------------------------------------------------------------------+---------------------+----------------------------------------+------------+-----------------------+-----+\n",
      "|MIME_INFO                                                                                                                                                                                                                                                                           |PRODUCT_DETAILS                                                                                                                                                                                                |PRODUCT_FEATURES                                                                                                                                                                                                                                                                                            |PRODUCT_ORDER_DETAILS|PRODUCT_PRICE_DETAILS                   |SUPPLIER_PID|USER_DEFINED_EXTENSIONS|_mode|\n",
      "+------------------------------------------------------------------------------------------------------------------------------------------------------------------------------------------------------------------------------------------------------------------------------------+---------------------------------------------------------------------------------------------------------------------------------------------------------------------------------------------------------------+------------------------------------------------------------------------------------------------------------------------------------------------------------------------------------------------------------------------------------------------------------------------------------------------------------+---------------------+----------------------------------------+------------+-----------------------+-----+\n",
      "|{[{{Hersteller-Logo, deu}, {Hersteller-Logo, deu}, logo, {panel_logo.gif, deu}, image/gif}, {{Bedienungsanleitung, deu}, {Bedienungsanleitung, deu}, data_sheet, {bedienungsanleitung_11010.pdf, deu}, application/pdf}, {NULL, NULL, normal, {11070_normal.jpg, deu}, image/jpeg}]}|{DEMO, {DEMO 1 (deu, de) FOR PRODUCT MANAGEMENT DEMONSTRATION PURPOSES ✓, deu}, [{DEMO 1 (deu, de), deu, de}, {DEMO 1 (eng, en), eng, en}], {1, gtin}, tequip, DEMO_MPID, DEMO_APID}                           |[{NULL, 1000000000, NULL, udf_NMCATEGORIES-1.0}, {[{{tec_detail_1, deu}, DEMO UNIT, {42_1, deu}}, {{tec_detail_2, deu}, DEMO UNIT, {42_2, deu}}, {{tec_detail_3, deu}, DEMO UNIT, {42_3, deu}}], NULL, [{Technische Daten, deu}, {Technical Data, eng}, {Datos tecnicos, spa}], udf_NMTECHNICALDETAILS-1.0}]|{C62, 1, 1}          |{{0.01, EUR, {standard_rate}, net_list}}|DEMO        |{true, false}          |new  |\n",
      "|{[{{Hersteller-Logo, deu}, {Hersteller-Logo, deu}, logo, {panel_logo.gif, deu}, image/gif}, {{Bedienungsanleitung, deu}, {Bedienungsanleitung, deu}, data_sheet, {bedienungsanleitung_11010.pdf, deu}, application/pdf}, {NULL, NULL, normal, {11070_normal.jpg, deu}, image/jpeg}]}|{NULL, {DEMO 9999911111 (deu, de) FOR PRODUCT MANAGEMENT DEMONSTRATION PURPOSES, deu}, [{DEMO 9999911111 (deu, de), deu, de}, {DEMO 9999911111 (eng, en), eng, en}], {2, gtin}, tequip, 9999933333, 9999922222}|[{NULL, 1000000000, NULL, udf_NMCATEGORIES-1.0}, {[{{tec_detail_1, deu}, DEMO UNIT, {42_1, deu}}, {{tec_detail_2, deu}, DEMO UNIT, {42_2, deu}}, {{tec_detail_3, deu}, DEMO UNIT, {42_3, deu}}], NULL, [{Technische Daten, deu}, {Technical Data, eng}, {Datos tecnicos, spa}], udf_NMTECHNICALDETAILS-1.0}]|{C62, 1, 1}          |{{0.01, EUR, {standard_rate}, net_list}}|9999911111  |{true, true}           |new  |\n",
      "+------------------------------------------------------------------------------------------------------------------------------------------------------------------------------------------------------------------------------------------------------------------------------------+---------------------------------------------------------------------------------------------------------------------------------------------------------------------------------------------------------------+------------------------------------------------------------------------------------------------------------------------------------------------------------------------------------------------------------------------------------------------------------------------------------------------------------+---------------------+----------------------------------------+------------+-----------------------+-----+\n",
      "\n"
     ]
    }
   ],
   "source": [
    "# Catalog data (XML format)\n",
    "catalog_df = inspect_dataset(\n",
    "    name=\"Catalog\",\n",
    "    path=paths[\"catalog_raw\"],\n",
    "    format_type=\"xml\",\n",
    "    options={\"rowTag\": \"PRODUCT\"}  # Updated to 'PRODUCT' based on the XML structure\n",
    ")\n",
    "\n",
    "# Load raw datasets\n",
    "#catalog_df = spark.read.format(\"xml\").options(rowTag=\"PRODUCT\").load(paths[\"catalog_raw\"])"
   ]
  },
  {
   "cell_type": "code",
   "execution_count": null,
   "metadata": {
    "application/vnd.databricks.v1+cell": {
     "cellMetadata": {
      "byteLimit": 2048000,
      "rowLimit": 10000
     },
     "inputWidgets": {},
     "nuid": "4f424dc0-727e-4f81-a1cd-e181fa8d286d",
     "showTitle": false,
     "tableResultSettingsMap": {},
     "title": ""
    }
   },
   "outputs": [
    {
     "name": "stdout",
     "output_type": "stream",
     "text": [
      "=== Inspecting Catalog Dataset ===\n",
      "root\n",
      " |-- MIME_INFO: struct (nullable = true)\n",
      " |    |-- MIME: array (nullable = true)\n",
      " |    |    |-- element: struct (containsNull = true)\n",
      " |    |    |    |-- MIME_ALT: struct (nullable = true)\n",
      " |    |    |    |    |-- _VALUE: string (nullable = true)\n",
      " |    |    |    |    |-- _lang: string (nullable = true)\n",
      " |    |    |    |-- MIME_DESCR: struct (nullable = true)\n",
      " |    |    |    |    |-- _VALUE: string (nullable = true)\n",
      " |    |    |    |    |-- _lang: string (nullable = true)\n",
      " |    |    |    |-- MIME_PURPOSE: string (nullable = true)\n",
      " |    |    |    |-- MIME_SOURCE: struct (nullable = true)\n",
      " |    |    |    |    |-- _VALUE: string (nullable = true)\n",
      " |    |    |    |    |-- _lang: string (nullable = true)\n",
      " |    |    |    |-- MIME_TYPE: string (nullable = true)\n",
      " |-- PRODUCT_DETAILS: struct (nullable = true)\n",
      " |    |-- BUYER_PID: string (nullable = true)\n",
      " |    |-- DESCRIPTION_LONG: struct (nullable = true)\n",
      " |    |    |-- _VALUE: string (nullable = true)\n",
      " |    |    |-- _lang: string (nullable = true)\n",
      " |    |-- DESCRIPTION_SHORT: array (nullable = true)\n",
      " |    |    |-- element: struct (containsNull = true)\n",
      " |    |    |    |-- _VALUE: string (nullable = true)\n",
      " |    |    |    |-- _lang: string (nullable = true)\n",
      " |    |    |    |-- _locale: string (nullable = true)\n",
      " |    |-- INTERNATIONAL_PID: struct (nullable = true)\n",
      " |    |    |-- _VALUE: long (nullable = true)\n",
      " |    |    |-- _type: string (nullable = true)\n",
      " |    |-- MANUFACTURER_NAME: string (nullable = true)\n",
      " |    |-- MANUFACTURER_PID: string (nullable = true)\n",
      " |    |-- SUPPLIER_ALT_PID: string (nullable = true)\n",
      " |-- PRODUCT_FEATURES: array (nullable = true)\n",
      " |    |-- element: struct (containsNull = true)\n",
      " |    |    |-- FEATURE: array (nullable = true)\n",
      " |    |    |    |-- element: struct (containsNull = true)\n",
      " |    |    |    |    |-- FNAME: struct (nullable = true)\n",
      " |    |    |    |    |    |-- _VALUE: string (nullable = true)\n",
      " |    |    |    |    |    |-- _lang: string (nullable = true)\n",
      " |    |    |    |    |-- FUNIT: string (nullable = true)\n",
      " |    |    |    |    |-- FVALUE: struct (nullable = true)\n",
      " |    |    |    |    |    |-- _VALUE: string (nullable = true)\n",
      " |    |    |    |    |    |-- _lang: string (nullable = true)\n",
      " |    |    |-- REFERENCE_FEATURE_GROUP_ID: long (nullable = true)\n",
      " |    |    |-- REFERENCE_FEATURE_GROUP_NAME: array (nullable = true)\n",
      " |    |    |    |-- element: struct (containsNull = true)\n",
      " |    |    |    |    |-- _VALUE: string (nullable = true)\n",
      " |    |    |    |    |-- _lang: string (nullable = true)\n",
      " |    |    |-- REFERENCE_FEATURE_SYSTEM_NAME: string (nullable = true)\n",
      " |-- PRODUCT_ORDER_DETAILS: struct (nullable = true)\n",
      " |    |-- ORDER_UNIT: string (nullable = true)\n",
      " |    |-- QUANTITY_INTERVAL: long (nullable = true)\n",
      " |    |-- QUANTITY_MIN: long (nullable = true)\n",
      " |-- PRODUCT_PRICE_DETAILS: struct (nullable = true)\n",
      " |    |-- PRODUCT_PRICE: struct (nullable = true)\n",
      " |    |    |-- PRICE_AMOUNT: double (nullable = true)\n",
      " |    |    |-- PRICE_CURRENCY: string (nullable = true)\n",
      " |    |    |-- TAX_DETAILS: struct (nullable = true)\n",
      " |    |    |    |-- TAX_CATEGORY: string (nullable = true)\n",
      " |    |    |-- _price_type: string (nullable = true)\n",
      " |-- SUPPLIER_PID: string (nullable = true)\n",
      " |-- USER_DEFINED_EXTENSIONS: struct (nullable = true)\n",
      " |    |-- UDX.NM.AVAILABLE_FLAG: boolean (nullable = true)\n",
      " |    |-- UDX.NM.OFFLINE: boolean (nullable = true)\n",
      " |-- _mode: string (nullable = true)\n",
      "\n"
     ]
    },
    {
     "data": {
      "text/html": [
       "<style scoped>\n",
       "  .table-result-container {\n",
       "    max-height: 300px;\n",
       "    overflow: auto;\n",
       "  }\n",
       "  table, th, td {\n",
       "    border: 1px solid black;\n",
       "    border-collapse: collapse;\n",
       "  }\n",
       "  th, td {\n",
       "    padding: 5px;\n",
       "  }\n",
       "  th {\n",
       "    text-align: left;\n",
       "  }\n",
       "</style><div class='table-result-container'><table class='table-result'><thead style='background-color: white'><tr><th>MIME_INFO</th><th>PRODUCT_DETAILS</th><th>PRODUCT_FEATURES</th><th>PRODUCT_ORDER_DETAILS</th><th>PRODUCT_PRICE_DETAILS</th><th>SUPPLIER_PID</th><th>USER_DEFINED_EXTENSIONS</th><th>_mode</th></tr></thead><tbody><tr><td>List(List(List(List(Hersteller-Logo, deu), List(Hersteller-Logo, deu), logo, List(panel_logo.gif, deu), image/gif), List(List(Bedienungsanleitung, deu), List(Bedienungsanleitung, deu), data_sheet, List(bedienungsanleitung_11010.pdf, deu), application/pdf), List(null, null, normal, List(11070_normal.jpg, deu), image/jpeg)))</td><td>List(DEMO, List(DEMO 1 (deu, de) FOR PRODUCT MANAGEMENT DEMONSTRATION PURPOSES ✓, deu), List(List(DEMO 1 (deu, de), deu, de), List(DEMO 1 (eng, en), eng, en)), List(1, gtin), tequip, DEMO_MPID, DEMO_APID)</td><td>List(List(null, 1.0E9, null, udf_NMCATEGORIES-1.0), List(List(List(List(tec_detail_1, deu), DEMO UNIT, List(42_1, deu)), List(List(tec_detail_2, deu), DEMO UNIT, List(42_2, deu)), List(List(tec_detail_3, deu), DEMO UNIT, List(42_3, deu))), null, List(List(Technische Daten, deu), List(Technical Data, eng), List(Datos tecnicos, spa)), udf_NMTECHNICALDETAILS-1.0))</td><td>List(C62, 1, 1)</td><td>List(List(0.01, EUR, List(standard_rate), net_list))</td><td>DEMO</td><td>List(true, false)</td><td>new</td></tr><tr><td>List(List(List(List(Hersteller-Logo, deu), List(Hersteller-Logo, deu), logo, List(panel_logo.gif, deu), image/gif), List(List(Bedienungsanleitung, deu), List(Bedienungsanleitung, deu), data_sheet, List(bedienungsanleitung_11010.pdf, deu), application/pdf), List(null, null, normal, List(11070_normal.jpg, deu), image/jpeg)))</td><td>List(null, List(DEMO 9999911111 (deu, de) FOR PRODUCT MANAGEMENT DEMONSTRATION PURPOSES, deu), List(List(DEMO 9999911111 (deu, de), deu, de), List(DEMO 9999911111 (eng, en), eng, en)), List(2, gtin), tequip, 9999933333, 9999922222)</td><td>List(List(null, 1.0E9, null, udf_NMCATEGORIES-1.0), List(List(List(List(tec_detail_1, deu), DEMO UNIT, List(42_1, deu)), List(List(tec_detail_2, deu), DEMO UNIT, List(42_2, deu)), List(List(tec_detail_3, deu), DEMO UNIT, List(42_3, deu))), null, List(List(Technische Daten, deu), List(Technical Data, eng), List(Datos tecnicos, spa)), udf_NMTECHNICALDETAILS-1.0))</td><td>List(C62, 1, 1)</td><td>List(List(0.01, EUR, List(standard_rate), net_list))</td><td>9999911111</td><td>List(true, true)</td><td>new</td></tr></tbody></table></div>"
      ]
     },
     "metadata": {
      "application/vnd.databricks.v1+output": {
       "addedWidgets": {},
       "aggData": [],
       "aggError": "",
       "aggOverflow": false,
       "aggSchema": [],
       "aggSeriesLimitReached": false,
       "aggType": "",
       "arguments": {},
       "columnCustomDisplayInfos": {},
       "data": [
        [
         [
          [
           [
            [
             "Hersteller-Logo",
             "deu"
            ],
            [
             "Hersteller-Logo",
             "deu"
            ],
            "logo",
            [
             "panel_logo.gif",
             "deu"
            ],
            "image/gif"
           ],
           [
            [
             "Bedienungsanleitung",
             "deu"
            ],
            [
             "Bedienungsanleitung",
             "deu"
            ],
            "data_sheet",
            [
             "bedienungsanleitung_11010.pdf",
             "deu"
            ],
            "application/pdf"
           ],
           [
            null,
            null,
            "normal",
            [
             "11070_normal.jpg",
             "deu"
            ],
            "image/jpeg"
           ]
          ]
         ],
         [
          "DEMO",
          [
           "DEMO 1 (deu, de) FOR PRODUCT MANAGEMENT DEMONSTRATION PURPOSES ✓",
           "deu"
          ],
          [
           [
            "DEMO 1 (deu, de)",
            "deu",
            "de"
           ],
           [
            "DEMO 1 (eng, en)",
            "eng",
            "en"
           ]
          ],
          [
           1,
           "gtin"
          ],
          "tequip",
          "DEMO_MPID",
          "DEMO_APID"
         ],
         [
          [
           null,
           1000000000,
           null,
           "udf_NMCATEGORIES-1.0"
          ],
          [
           [
            [
             [
              "tec_detail_1",
              "deu"
             ],
             "DEMO UNIT",
             [
              "42_1",
              "deu"
             ]
            ],
            [
             [
              "tec_detail_2",
              "deu"
             ],
             "DEMO UNIT",
             [
              "42_2",
              "deu"
             ]
            ],
            [
             [
              "tec_detail_3",
              "deu"
             ],
             "DEMO UNIT",
             [
              "42_3",
              "deu"
             ]
            ]
           ],
           null,
           [
            [
             "Technische Daten",
             "deu"
            ],
            [
             "Technical Data",
             "eng"
            ],
            [
             "Datos tecnicos",
             "spa"
            ]
           ],
           "udf_NMTECHNICALDETAILS-1.0"
          ]
         ],
         [
          "C62",
          1,
          1
         ],
         [
          [
           0.01,
           "EUR",
           [
            "standard_rate"
           ],
           "net_list"
          ]
         ],
         "DEMO",
         [
          true,
          false
         ],
         "new"
        ],
        [
         [
          [
           [
            [
             "Hersteller-Logo",
             "deu"
            ],
            [
             "Hersteller-Logo",
             "deu"
            ],
            "logo",
            [
             "panel_logo.gif",
             "deu"
            ],
            "image/gif"
           ],
           [
            [
             "Bedienungsanleitung",
             "deu"
            ],
            [
             "Bedienungsanleitung",
             "deu"
            ],
            "data_sheet",
            [
             "bedienungsanleitung_11010.pdf",
             "deu"
            ],
            "application/pdf"
           ],
           [
            null,
            null,
            "normal",
            [
             "11070_normal.jpg",
             "deu"
            ],
            "image/jpeg"
           ]
          ]
         ],
         [
          null,
          [
           "DEMO 9999911111 (deu, de) FOR PRODUCT MANAGEMENT DEMONSTRATION PURPOSES",
           "deu"
          ],
          [
           [
            "DEMO 9999911111 (deu, de)",
            "deu",
            "de"
           ],
           [
            "DEMO 9999911111 (eng, en)",
            "eng",
            "en"
           ]
          ],
          [
           2,
           "gtin"
          ],
          "tequip",
          "9999933333",
          "9999922222"
         ],
         [
          [
           null,
           1000000000,
           null,
           "udf_NMCATEGORIES-1.0"
          ],
          [
           [
            [
             [
              "tec_detail_1",
              "deu"
             ],
             "DEMO UNIT",
             [
              "42_1",
              "deu"
             ]
            ],
            [
             [
              "tec_detail_2",
              "deu"
             ],
             "DEMO UNIT",
             [
              "42_2",
              "deu"
             ]
            ],
            [
             [
              "tec_detail_3",
              "deu"
             ],
             "DEMO UNIT",
             [
              "42_3",
              "deu"
             ]
            ]
           ],
           null,
           [
            [
             "Technische Daten",
             "deu"
            ],
            [
             "Technical Data",
             "eng"
            ],
            [
             "Datos tecnicos",
             "spa"
            ]
           ],
           "udf_NMTECHNICALDETAILS-1.0"
          ]
         ],
         [
          "C62",
          1,
          1
         ],
         [
          [
           0.01,
           "EUR",
           [
            "standard_rate"
           ],
           "net_list"
          ]
         ],
         "9999911111",
         [
          true,
          true
         ],
         "new"
        ]
       ],
       "datasetInfos": [],
       "dbfsResultPath": null,
       "isJsonSchema": true,
       "metadata": {},
       "overflow": false,
       "plotOptions": {
        "customPlotOptions": {},
        "displayType": "table",
        "pivotAggregation": null,
        "pivotColumns": null,
        "xColumns": null,
        "yColumns": null
       },
       "removedWidgets": [],
       "schema": [
        {
         "metadata": "{}",
         "name": "MIME_INFO",
         "type": "{\"type\":\"struct\",\"fields\":[{\"name\":\"MIME\",\"type\":{\"type\":\"array\",\"elementType\":{\"type\":\"struct\",\"fields\":[{\"name\":\"MIME_ALT\",\"type\":{\"type\":\"struct\",\"fields\":[{\"name\":\"_VALUE\",\"type\":\"string\",\"nullable\":true,\"metadata\":{}},{\"name\":\"_lang\",\"type\":\"string\",\"nullable\":true,\"metadata\":{}}]},\"nullable\":true,\"metadata\":{}},{\"name\":\"MIME_DESCR\",\"type\":{\"type\":\"struct\",\"fields\":[{\"name\":\"_VALUE\",\"type\":\"string\",\"nullable\":true,\"metadata\":{}},{\"name\":\"_lang\",\"type\":\"string\",\"nullable\":true,\"metadata\":{}}]},\"nullable\":true,\"metadata\":{}},{\"name\":\"MIME_PURPOSE\",\"type\":\"string\",\"nullable\":true,\"metadata\":{}},{\"name\":\"MIME_SOURCE\",\"type\":{\"type\":\"struct\",\"fields\":[{\"name\":\"_VALUE\",\"type\":\"string\",\"nullable\":true,\"metadata\":{}},{\"name\":\"_lang\",\"type\":\"string\",\"nullable\":true,\"metadata\":{}}]},\"nullable\":true,\"metadata\":{}},{\"name\":\"MIME_TYPE\",\"type\":\"string\",\"nullable\":true,\"metadata\":{}}]},\"containsNull\":true},\"nullable\":true,\"metadata\":{}}]}"
        },
        {
         "metadata": "{}",
         "name": "PRODUCT_DETAILS",
         "type": "{\"type\":\"struct\",\"fields\":[{\"name\":\"BUYER_PID\",\"type\":\"string\",\"nullable\":true,\"metadata\":{}},{\"name\":\"DESCRIPTION_LONG\",\"type\":{\"type\":\"struct\",\"fields\":[{\"name\":\"_VALUE\",\"type\":\"string\",\"nullable\":true,\"metadata\":{}},{\"name\":\"_lang\",\"type\":\"string\",\"nullable\":true,\"metadata\":{}}]},\"nullable\":true,\"metadata\":{}},{\"name\":\"DESCRIPTION_SHORT\",\"type\":{\"type\":\"array\",\"elementType\":{\"type\":\"struct\",\"fields\":[{\"name\":\"_VALUE\",\"type\":\"string\",\"nullable\":true,\"metadata\":{}},{\"name\":\"_lang\",\"type\":\"string\",\"nullable\":true,\"metadata\":{}},{\"name\":\"_locale\",\"type\":\"string\",\"nullable\":true,\"metadata\":{}}]},\"containsNull\":true},\"nullable\":true,\"metadata\":{}},{\"name\":\"INTERNATIONAL_PID\",\"type\":{\"type\":\"struct\",\"fields\":[{\"name\":\"_VALUE\",\"type\":\"long\",\"nullable\":true,\"metadata\":{}},{\"name\":\"_type\",\"type\":\"string\",\"nullable\":true,\"metadata\":{}}]},\"nullable\":true,\"metadata\":{}},{\"name\":\"MANUFACTURER_NAME\",\"type\":\"string\",\"nullable\":true,\"metadata\":{}},{\"name\":\"MANUFACTURER_PID\",\"type\":\"string\",\"nullable\":true,\"metadata\":{}},{\"name\":\"SUPPLIER_ALT_PID\",\"type\":\"string\",\"nullable\":true,\"metadata\":{}}]}"
        },
        {
         "metadata": "{}",
         "name": "PRODUCT_FEATURES",
         "type": "{\"type\":\"array\",\"elementType\":{\"type\":\"struct\",\"fields\":[{\"name\":\"FEATURE\",\"type\":{\"type\":\"array\",\"elementType\":{\"type\":\"struct\",\"fields\":[{\"name\":\"FNAME\",\"type\":{\"type\":\"struct\",\"fields\":[{\"name\":\"_VALUE\",\"type\":\"string\",\"nullable\":true,\"metadata\":{}},{\"name\":\"_lang\",\"type\":\"string\",\"nullable\":true,\"metadata\":{}}]},\"nullable\":true,\"metadata\":{}},{\"name\":\"FUNIT\",\"type\":\"string\",\"nullable\":true,\"metadata\":{}},{\"name\":\"FVALUE\",\"type\":{\"type\":\"struct\",\"fields\":[{\"name\":\"_VALUE\",\"type\":\"string\",\"nullable\":true,\"metadata\":{}},{\"name\":\"_lang\",\"type\":\"string\",\"nullable\":true,\"metadata\":{}}]},\"nullable\":true,\"metadata\":{}}]},\"containsNull\":true},\"nullable\":true,\"metadata\":{}},{\"name\":\"REFERENCE_FEATURE_GROUP_ID\",\"type\":\"double\",\"nullable\":true,\"metadata\":{}},{\"name\":\"REFERENCE_FEATURE_GROUP_NAME\",\"type\":{\"type\":\"array\",\"elementType\":{\"type\":\"struct\",\"fields\":[{\"name\":\"_VALUE\",\"type\":\"string\",\"nullable\":true,\"metadata\":{}},{\"name\":\"_lang\",\"type\":\"string\",\"nullable\":true,\"metadata\":{}}]},\"containsNull\":true},\"nullable\":true,\"metadata\":{}},{\"name\":\"REFERENCE_FEATURE_SYSTEM_NAME\",\"type\":\"string\",\"nullable\":true,\"metadata\":{}}]},\"containsNull\":true}"
        },
        {
         "metadata": "{}",
         "name": "PRODUCT_ORDER_DETAILS",
         "type": "{\"type\":\"struct\",\"fields\":[{\"name\":\"ORDER_UNIT\",\"type\":\"string\",\"nullable\":true,\"metadata\":{}},{\"name\":\"QUANTITY_INTERVAL\",\"type\":\"long\",\"nullable\":true,\"metadata\":{}},{\"name\":\"QUANTITY_MIN\",\"type\":\"long\",\"nullable\":true,\"metadata\":{}}]}"
        },
        {
         "metadata": "{}",
         "name": "PRODUCT_PRICE_DETAILS",
         "type": "{\"type\":\"struct\",\"fields\":[{\"name\":\"PRODUCT_PRICE\",\"type\":{\"type\":\"struct\",\"fields\":[{\"name\":\"PRICE_AMOUNT\",\"type\":\"double\",\"nullable\":true,\"metadata\":{}},{\"name\":\"PRICE_CURRENCY\",\"type\":\"string\",\"nullable\":true,\"metadata\":{}},{\"name\":\"TAX_DETAILS\",\"type\":{\"type\":\"struct\",\"fields\":[{\"name\":\"TAX_CATEGORY\",\"type\":\"string\",\"nullable\":true,\"metadata\":{}}]},\"nullable\":true,\"metadata\":{}},{\"name\":\"_price_type\",\"type\":\"string\",\"nullable\":true,\"metadata\":{}}]},\"nullable\":true,\"metadata\":{}}]}"
        },
        {
         "metadata": "{}",
         "name": "SUPPLIER_PID",
         "type": "\"string\""
        },
        {
         "metadata": "{}",
         "name": "USER_DEFINED_EXTENSIONS",
         "type": "{\"type\":\"struct\",\"fields\":[{\"name\":\"UDX.NM.AVAILABLE_FLAG\",\"type\":\"boolean\",\"nullable\":true,\"metadata\":{}},{\"name\":\"UDX.NM.OFFLINE\",\"type\":\"boolean\",\"nullable\":true,\"metadata\":{}}]}"
        },
        {
         "metadata": "{}",
         "name": "_mode",
         "type": "\"string\""
        }
       ],
       "type": "table"
      }
     },
     "output_type": "display_data"
    }
   ],
   "source": [
    "print(\"=== Inspecting Catalog Dataset ===\")\n",
    "catalog_df.printSchema()\n",
    "display(catalog_df.limit(10).toPandas())  # Display as table-like format"
   ]
  },
  {
   "cell_type": "code",
   "execution_count": null,
   "metadata": {
    "application/vnd.databricks.v1+cell": {
     "cellMetadata": {
      "byteLimit": 2048000,
      "rowLimit": 10000
     },
     "inputWidgets": {},
     "nuid": "9b3eb1ca-ee1c-4ad6-bc02-a13b29d64ede",
     "showTitle": false,
     "tableResultSettingsMap": {},
     "title": ""
    }
   },
   "outputs": [],
   "source": [
    "#Catalog Dataset\n",
    "#Transform and clean the catalog data.\n",
    "\n",
    "catalog_transformed = catalog_df.select(\n",
    "    col(\"PRODUCT_DETAILS.MANUFACTURER_NAME\").alias(\"manufacturer\"),\n",
    "    col(\"PRODUCT_DETAILS.MANUFACTURER_PID\").alias(\"manufacturer_pid\"),\n",
    "    col(\"PRODUCT_DETAILS.DESCRIPTION_LONG._VALUE\").alias(\"description\"),\n",
    "    col(\"PRODUCT_PRICE_DETAILS.PRODUCT_PRICE.PRICE_AMOUNT\").alias(\"price\"),\n",
    "    col(\"PRODUCT_PRICE_DETAILS.PRODUCT_PRICE.PRICE_CURRENCY\").alias(\"currency\"),\n",
    "    col(\"SUPPLIER_PID\").alias(\"supplier_pid\")\n",
    ")\n"
   ]
  },
  {
   "cell_type": "markdown",
   "metadata": {
    "application/vnd.databricks.v1+cell": {
     "cellMetadata": {},
     "inputWidgets": {},
     "nuid": "4420e6b0-7c50-4473-82bf-1474ad9fab87",
     "showTitle": false,
     "tableResultSettingsMap": {},
     "title": ""
    }
   },
   "source": [
    "##4. Write Transformed Data to Processed Folder\n",
    "Save the transformed datasets into the processed folder."
   ]
  },
  {
   "cell_type": "code",
   "execution_count": null,
   "metadata": {
    "application/vnd.databricks.v1+cell": {
     "cellMetadata": {},
     "inputWidgets": {},
     "nuid": "366f543d-ec50-4d92-ba8c-e12d6185a65b",
     "showTitle": false,
     "tableResultSettingsMap": {},
     "title": ""
    }
   },
   "outputs": [],
   "source": [
    "catalog_transformed.write.format(\"parquet\").mode(\"overwrite\").save(paths[\"catalog_processed\"])\n"
   ]
  }
 ],
 "metadata": {
  "application/vnd.databricks.v1+notebook": {
   "computePreferences": null,
   "dashboards": [],
   "environmentMetadata": {
    "base_environment": "",
    "client": "1"
   },
   "language": "python",
   "notebookMetadata": {
    "pythonIndentUnit": 4
   },
   "notebookName": "TransformCatalogToProcessed",
   "widgets": {}
  },
  "language_info": {
   "name": "python"
  }
 },
 "nbformat": 4,
 "nbformat_minor": 0
}
